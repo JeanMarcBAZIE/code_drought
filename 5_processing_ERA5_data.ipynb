{
 "cells": [
  {
   "cell_type": "markdown",
   "metadata": {},
   "source": [
    "Ce notebook vise à traiter les données issues de ERA5 (au dessus du BF ou des mers). Toutes les variables seront mises en commun et sauvegardées dans deux fichiers (decadaires et mensuelles)"
   ]
  },
  {
   "cell_type": "code",
   "execution_count": 1,
   "metadata": {},
   "outputs": [],
   "source": [
    "import os, sys\n",
    "import pyproj\n",
    "from pyproj import Proj \n",
    "from netCDF4 import Dataset\n",
    "import netCDF4\n",
    "import shutil\n",
    "import numpy as np\n",
    "import pandas as pd\n",
    "from datetime import datetime, timedelta\n",
    "import datetime\n",
    "import cftime\n",
    "import subprocess\n",
    "import shutil\n",
    "from functools import reduce\n",
    "from config import Config, Constant\n",
    "import warnings\n",
    "warnings.filterwarnings('ignore')"
   ]
  },
  {
   "cell_type": "code",
   "execution_count": 2,
   "metadata": {},
   "outputs": [],
   "source": [
    "#Lecture du fichier des données des coordonnées des stations\n",
    "#Ce fichier permet d'extraire les valeurs au dessus des stations à partir des fichiers NetCDF\n",
    "stations = pd.read_excel(str(Config.STATION_PATH) + '/' + str(Config.STAT_COORD_FILE_NAME))"
   ]
  },
  {
   "cell_type": "code",
   "execution_count": 3,
   "metadata": {},
   "outputs": [],
   "source": [
    "# Liste contenant les noms des dataframes decades et mensuels\n",
    "df_terre_dek=[]\n",
    "df_terre_mon=[]\n",
    "df_mer_dek=[]\n",
    "df_mer_mon=[]"
   ]
  },
  {
   "cell_type": "markdown",
   "metadata": {},
   "source": [
    "### I- VITESSE VENT V À LA 975 hPa"
   ]
  },
  {
   "cell_type": "code",
   "execution_count": 4,
   "metadata": {},
   "outputs": [],
   "source": [
    "# Lecture de fichier de vent v à la 975hPa\n",
    "v_wind_975=Dataset(str(Config.ERA5_PATH) + '/' + str(Config.WIND_V_975))\n",
    "#Lecture des variables du fichier au format netCDF\n",
    "v_wind=v_wind_975.variables['v'][:]\n",
    "unitd=v_wind_975.variables['v'].units\n",
    "unit=v_wind_975.variables['time'].units\n",
    "times=v_wind_975.variables['time'][:]\n",
    "lat=v_wind_975.variables['latitude'][:]\n",
    "lon=v_wind_975.variables['longitude'][:]"
   ]
  },
  {
   "cell_type": "code",
   "execution_count": 5,
   "metadata": {},
   "outputs": [
    {
     "name": "stdout",
     "output_type": "stream",
     "text": [
      "Generating time series for Bobo_Dioulasso\n",
      "Generating time series for Bogande\n",
      "Generating time series for Boromo\n",
      "Generating time series for Dedougou\n",
      "Generating time series for Dori\n",
      "Generating time series for Fada_Ngourma\n",
      "Generating time series for Gaoua\n",
      "Generating time series for Ouagadougou_aero\n",
      "Generating time series for Ouahigouya\n",
      "Generating time series for Po\n",
      "All station data is saved in the CSV file: ../ASSETS/DATA/ERA5/v_wind_975.csv\n"
     ]
    }
   ],
   "source": [
    "# Créer un répertoire de sortie s'il n'existe pas déjà\n",
    "dir_out = Config.ERA5_DATA_PATH\n",
    "os.makedirs(dir_out, exist_ok=True)\n",
    "\n",
    "# Créer une liste pour stocker les informations des stations\n",
    "station_data_list = []\n",
    "\n",
    "for index, value in stations.iterrows():\n",
    "    station = value['station']  \n",
    "    \n",
    "    lon_point = value['longitude']  # Assurez-vous que la colonne s'appelle 'Longitude'\n",
    "    lat_point = value['latitude']   # Assurez-vous que la colonne s'appelle 'Latitude'\n",
    "    \n",
    "    # Calcul des carrés des différences entre les latitudes et longitudes\n",
    "    sq_diff_lat = (lat - lat_point) ** 2\n",
    "    sq_diff_lon = (lon - lon_point) ** 2\n",
    "    \n",
    "    print(f\"Generating time series for {station}\")\n",
    "    ref_date = datetime.datetime(int(unit[12:16]), int(unit[17:19]), int(unit[20:22]))\n",
    "    date_range = []\n",
    "    v_wind_data = []\n",
    "    \n",
    "    for index, time in enumerate(times):\n",
    "        date_time = ref_date + datetime.timedelta(hours=int(time))\n",
    "        date_range.append(date_time)  # Ajoutez l'objet datetime lui-même\n",
    "        v_wind_data.append(v_wind[index, sq_diff_lat.argmin(), sq_diff_lon.argmin()])  # Utilisez les indices corrects\n",
    "    station_data_list.append({'Station': station, 'Date-Time': date_range, 'v_wind_975': v_wind_data})\n",
    "\n",
    "# Création du DataFrame global\n",
    "all_data = pd.DataFrame()\n",
    "\n",
    "for station_data in station_data_list:\n",
    "    df = pd.DataFrame(station_data)\n",
    "    all_data = pd.concat([all_data, df], ignore_index=True)\n",
    "\n",
    "# Enregistrement du DataFrame global dans un fichier CSV\n",
    "output_file_path = os.path.join(dir_out, str(Config.WIND_V_975_CSV))\n",
    "all_data.to_csv(output_file_path, index=False)\n",
    "print(f\"All station data is saved in the CSV file: {output_file_path}\")\n"
   ]
  },
  {
   "cell_type": "code",
   "execution_count": 6,
   "metadata": {},
   "outputs": [
    {
     "data": {
      "text/html": [
       "<div>\n",
       "<style scoped>\n",
       "    .dataframe tbody tr th:only-of-type {\n",
       "        vertical-align: middle;\n",
       "    }\n",
       "\n",
       "    .dataframe tbody tr th {\n",
       "        vertical-align: top;\n",
       "    }\n",
       "\n",
       "    .dataframe thead th {\n",
       "        text-align: right;\n",
       "    }\n",
       "</style>\n",
       "<table border=\"1\" class=\"dataframe\">\n",
       "  <thead>\n",
       "    <tr style=\"text-align: right;\">\n",
       "      <th></th>\n",
       "      <th>Station</th>\n",
       "      <th>Date-Time</th>\n",
       "      <th>v_wind_975</th>\n",
       "    </tr>\n",
       "  </thead>\n",
       "  <tbody>\n",
       "    <tr>\n",
       "      <th>0</th>\n",
       "      <td>Bobo_Dioulasso</td>\n",
       "      <td>1961-01-01 00:00:00</td>\n",
       "      <td>-2.880353</td>\n",
       "    </tr>\n",
       "    <tr>\n",
       "      <th>1</th>\n",
       "      <td>Bobo_Dioulasso</td>\n",
       "      <td>1961-01-01 06:00:00</td>\n",
       "      <td>-2.466383</td>\n",
       "    </tr>\n",
       "    <tr>\n",
       "      <th>2</th>\n",
       "      <td>Bobo_Dioulasso</td>\n",
       "      <td>1961-01-01 12:00:00</td>\n",
       "      <td>-1.585962</td>\n",
       "    </tr>\n",
       "    <tr>\n",
       "      <th>3</th>\n",
       "      <td>Bobo_Dioulasso</td>\n",
       "      <td>1961-01-01 18:00:00</td>\n",
       "      <td>-2.316918</td>\n",
       "    </tr>\n",
       "    <tr>\n",
       "      <th>4</th>\n",
       "      <td>Bobo_Dioulasso</td>\n",
       "      <td>1961-01-02 00:00:00</td>\n",
       "      <td>-2.920239</td>\n",
       "    </tr>\n",
       "  </tbody>\n",
       "</table>\n",
       "</div>"
      ],
      "text/plain": [
       "          Station           Date-Time  v_wind_975\n",
       "0  Bobo_Dioulasso 1961-01-01 00:00:00   -2.880353\n",
       "1  Bobo_Dioulasso 1961-01-01 06:00:00   -2.466383\n",
       "2  Bobo_Dioulasso 1961-01-01 12:00:00   -1.585962\n",
       "3  Bobo_Dioulasso 1961-01-01 18:00:00   -2.316918\n",
       "4  Bobo_Dioulasso 1961-01-02 00:00:00   -2.920239"
      ]
     },
     "execution_count": 6,
     "metadata": {},
     "output_type": "execute_result"
    }
   ],
   "source": [
    "all_data.head()"
   ]
  },
  {
   "cell_type": "code",
   "execution_count": 7,
   "metadata": {},
   "outputs": [],
   "source": [
    "# Supposons que vous ayez déjà chargé vos données dans un DataFrame appelé 'df'\n",
    "# Assurez-vous que la colonne 'Date-Time' est en format de datetime\n",
    "df=all_data.copy()\n",
    "df['Date-Time'] = pd.to_datetime(df['Date-Time'])\n",
    "# Créez une colonne 'Decade' en utilisant le numéro de décade dans le mois\n",
    "decade_ranges = [0, 10, 20, 32]\n",
    "dek_num = [1, 2, 3]\n",
    "df['Day']=df['Date-Time'].dt.day\n",
    "df['Decade'] = pd.cut(df['Day'], bins=decade_ranges, labels=dek_num)\n",
    "# Créez les colonnes 'Year' et 'Month' à partir de la colonne 'Date-Time'\n",
    "df['Year'] = df['Date-Time'].dt.year\n",
    "df['Month'] = df['Date-Time'].dt.month\n"
   ]
  },
  {
   "cell_type": "markdown",
   "metadata": {},
   "source": [
    "##### I-1 CALCUL DES MOYENNES DECADAIRES "
   ]
  },
  {
   "cell_type": "code",
   "execution_count": 8,
   "metadata": {},
   "outputs": [
    {
     "name": "stdout",
     "output_type": "stream",
     "text": [
      "Moyenne décadaire :\n",
      "               Station  Year  Month Decade  v_wind_975\n",
      "0      Bobo_Dioulasso  1961      1      1   -2.477929\n",
      "1      Bobo_Dioulasso  1961      1      2   -2.545220\n",
      "2      Bobo_Dioulasso  1961      1      3   -2.898044\n",
      "3      Bobo_Dioulasso  1961      2      1   -2.424871\n",
      "4      Bobo_Dioulasso  1961      2      2   -2.312341\n",
      "...               ...   ...    ...    ...         ...\n",
      "21955              Po  2021     11      2   -0.261836\n",
      "21956              Po  2021     11      3   -0.620669\n",
      "21957              Po  2021     12      1   -1.527897\n",
      "21958              Po  2021     12      2   -2.103897\n",
      "21959              Po  2021     12      3   -3.658856\n",
      "\n",
      "[21960 rows x 5 columns]\n"
     ]
    }
   ],
   "source": [
    "# Regroupez par année, mois et décade, puis calculez la moyenne décadaires pour 'd2m (m s**-1)'\n",
    "decade_avg_u_w_975 = df.groupby(['Station','Year', 'Month', 'Decade'])['v_wind_975'].mean()\n",
    "# Réinitialisez l'index pour obtenir une DataFrame propre avec les valeurs calculées\n",
    "decade_avg_u_w_975 = decade_avg_u_w_975.reset_index()\n",
    "#output_file_path = os.path.join(dir_out, str(Config.WIND_V_975_CSV))\n",
    "#output_dek_path = os.path.join(dir_out, str(Config.WIND_V_975_DEK))\n",
    "#decade_avg_u_w_975.to_csv(output_dek_path, index=False)\n",
    "#Ajout du nom de la dataframe pour la concatenation\n",
    "df_terre_dek.append(decade_avg_u_w_975)\n",
    "# Affichez les moyennes décadaires\n",
    "print(\"Moyenne décadaire :\\n\", decade_avg_u_w_975)"
   ]
  },
  {
   "cell_type": "markdown",
   "metadata": {},
   "source": [
    "##### I-2 CALCUL DES MOYENNES MENSUELLES"
   ]
  },
  {
   "cell_type": "code",
   "execution_count": 9,
   "metadata": {},
   "outputs": [
    {
     "name": "stdout",
     "output_type": "stream",
     "text": [
      "\n",
      "Moyenne mensuelle :\n",
      "              Station  Year  Month  v_wind_975\n",
      "0     Bobo_Dioulasso  1961      1   -2.648709\n",
      "1     Bobo_Dioulasso  1961      2   -2.103444\n",
      "2     Bobo_Dioulasso  1961      3   -0.886015\n",
      "3     Bobo_Dioulasso  1961      4    1.652940\n",
      "4     Bobo_Dioulasso  1961      5    1.654241\n",
      "...              ...   ...    ...         ...\n",
      "7315              Po  2021      8    1.879763\n",
      "7316              Po  2021      9    2.036198\n",
      "7317              Po  2021     10    1.988795\n",
      "7318              Po  2021     11    0.455663\n",
      "7319              Po  2021     12   -2.469851\n",
      "\n",
      "[7320 rows x 4 columns]\n"
     ]
    }
   ],
   "source": [
    "# Maintenant, calculez la moyenne mensuelle en utilisant le même processus\n",
    "month_avg_u_w_975 = df.groupby(['Station','Year', 'Month'])['v_wind_975'].mean()\n",
    "month_avg_u_w_975 = month_avg_u_w_975.reset_index()\n",
    "# Affichez les moyennes mensuelles\n",
    "print(\"\\nMoyenne mensuelle :\\n\", month_avg_u_w_975)\n",
    "#output_mon_path = os.path.join(dir_out, str(Config.WIND_V_975_MON))\n",
    "#month_avg_u_w_975.to_csv(output_mon_path, index=False)\n",
    "df_terre_mon.append(month_avg_u_w_975)"
   ]
  },
  {
   "cell_type": "markdown",
   "metadata": {},
   "source": [
    "### II- COMPOSANTE U DU VENT À LA 700 hPa"
   ]
  },
  {
   "cell_type": "code",
   "execution_count": 10,
   "metadata": {},
   "outputs": [],
   "source": [
    "# Lecture de fichier de vent u à la 700 hPa\n",
    "u_wind_700=Dataset(str(Config.ERA5_PATH) + '/' + str(Config.WIND_U_700))\n",
    "#Lecture des variables du fichier au format netCDF\n",
    "u700_wind=u_wind_700.variables['u'][:]\n",
    "unitd=u_wind_700.variables['u'].units\n",
    "unit=u_wind_700.variables['time'].units\n",
    "times=u_wind_700.variables['time'][:]\n",
    "lat=u_wind_700.variables['latitude'][:]\n",
    "lon=u_wind_700.variables['longitude'][:]"
   ]
  },
  {
   "cell_type": "code",
   "execution_count": 11,
   "metadata": {},
   "outputs": [
    {
     "name": "stdout",
     "output_type": "stream",
     "text": [
      "Generating time series for Bobo_Dioulasso\n",
      "Generating time series for Bogande\n",
      "Generating time series for Boromo\n",
      "Generating time series for Dedougou\n",
      "Generating time series for Dori\n",
      "Generating time series for Fada_Ngourma\n",
      "Generating time series for Gaoua\n",
      "Generating time series for Ouagadougou_aero\n",
      "Generating time series for Ouahigouya\n",
      "Generating time series for Po\n",
      "All station data is saved in the CSV file: ../ASSETS/DATA/ERA5/u_wind_700.csv\n"
     ]
    }
   ],
   "source": [
    "# Créer un répertoire de sortie s'il n'existe pas déjà\n",
    "dir_out = Config.ERA5_DATA_PATH\n",
    "os.makedirs(dir_out, exist_ok=True)\n",
    "\n",
    "# Créer une liste pour stocker les informations des stations\n",
    "station_data_list = []\n",
    "\n",
    "for index, value in stations.iterrows():\n",
    "    station = value['station']  \n",
    "    \n",
    "    lon_point = value['longitude']  # Assurez-vous que la colonne s'appelle 'Longitude'\n",
    "    lat_point = value['latitude']   # Assurez-vous que la colonne s'appelle 'Latitude'\n",
    "    \n",
    "    # Calcul des carrés des différences entre les latitudes et longitudes\n",
    "    sq_diff_lat = (lat - lat_point) ** 2\n",
    "    sq_diff_lon = (lon - lon_point) ** 2\n",
    "    \n",
    "    print(f\"Generating time series for {station}\")\n",
    "    ref_date = datetime.datetime(int(unit[12:16]), int(unit[17:19]), int(unit[20:22]))\n",
    "    date_range = []\n",
    "    u700_wind_data = []\n",
    "    \n",
    "    for index, time in enumerate(times):\n",
    "        date_time = ref_date + datetime.timedelta(hours=int(time))\n",
    "        date_range.append(date_time)  # Ajoutez l'objet datetime lui-même\n",
    "        u700_wind_data.append(u700_wind[index, sq_diff_lat.argmin(), sq_diff_lon.argmin()])  # Utilisez les indices corrects\n",
    "    station_data_list.append({'Station': station, 'Date-Time': date_range, 'u_wind_700': u700_wind_data})\n",
    "\n",
    "# Création du DataFrame global\n",
    "all_data = pd.DataFrame()\n",
    "\n",
    "for station_data in station_data_list:\n",
    "    df = pd.DataFrame(station_data)\n",
    "    all_data = pd.concat([all_data, df], ignore_index=True)\n",
    "\n",
    "# Enregistrement du DataFrame global dans un fichier CSV\n",
    "output_file_path = os.path.join(dir_out, str(Config.WIND_U_700_CSV))\n",
    "all_data.to_csv(output_file_path, index=False)\n",
    "print(f\"All station data is saved in the CSV file: {output_file_path}\")\n"
   ]
  },
  {
   "cell_type": "code",
   "execution_count": 12,
   "metadata": {},
   "outputs": [
    {
     "data": {
      "text/html": [
       "<div>\n",
       "<style scoped>\n",
       "    .dataframe tbody tr th:only-of-type {\n",
       "        vertical-align: middle;\n",
       "    }\n",
       "\n",
       "    .dataframe tbody tr th {\n",
       "        vertical-align: top;\n",
       "    }\n",
       "\n",
       "    .dataframe thead th {\n",
       "        text-align: right;\n",
       "    }\n",
       "</style>\n",
       "<table border=\"1\" class=\"dataframe\">\n",
       "  <thead>\n",
       "    <tr style=\"text-align: right;\">\n",
       "      <th></th>\n",
       "      <th>Station</th>\n",
       "      <th>Date-Time</th>\n",
       "      <th>u_wind_700</th>\n",
       "    </tr>\n",
       "  </thead>\n",
       "  <tbody>\n",
       "    <tr>\n",
       "      <th>0</th>\n",
       "      <td>Bobo_Dioulasso</td>\n",
       "      <td>1961-01-01 00:00:00</td>\n",
       "      <td>-3.787889</td>\n",
       "    </tr>\n",
       "    <tr>\n",
       "      <th>1</th>\n",
       "      <td>Bobo_Dioulasso</td>\n",
       "      <td>1961-01-01 06:00:00</td>\n",
       "      <td>-4.108588</td>\n",
       "    </tr>\n",
       "    <tr>\n",
       "      <th>2</th>\n",
       "      <td>Bobo_Dioulasso</td>\n",
       "      <td>1961-01-01 12:00:00</td>\n",
       "      <td>-3.107422</td>\n",
       "    </tr>\n",
       "    <tr>\n",
       "      <th>3</th>\n",
       "      <td>Bobo_Dioulasso</td>\n",
       "      <td>1961-01-01 18:00:00</td>\n",
       "      <td>-2.434280</td>\n",
       "    </tr>\n",
       "    <tr>\n",
       "      <th>4</th>\n",
       "      <td>Bobo_Dioulasso</td>\n",
       "      <td>1961-01-02 00:00:00</td>\n",
       "      <td>-5.467894</td>\n",
       "    </tr>\n",
       "  </tbody>\n",
       "</table>\n",
       "</div>"
      ],
      "text/plain": [
       "          Station           Date-Time  u_wind_700\n",
       "0  Bobo_Dioulasso 1961-01-01 00:00:00   -3.787889\n",
       "1  Bobo_Dioulasso 1961-01-01 06:00:00   -4.108588\n",
       "2  Bobo_Dioulasso 1961-01-01 12:00:00   -3.107422\n",
       "3  Bobo_Dioulasso 1961-01-01 18:00:00   -2.434280\n",
       "4  Bobo_Dioulasso 1961-01-02 00:00:00   -5.467894"
      ]
     },
     "execution_count": 12,
     "metadata": {},
     "output_type": "execute_result"
    }
   ],
   "source": [
    "all_data.head()"
   ]
  },
  {
   "cell_type": "code",
   "execution_count": 13,
   "metadata": {},
   "outputs": [],
   "source": [
    "# Supposons que vous ayez déjà chargé vos données dans un DataFrame appelé 'df'\n",
    "# Assurez-vous que la colonne 'Date-Time' est en format de datetime\n",
    "df=all_data.copy()\n",
    "df['Date-Time'] = pd.to_datetime(df['Date-Time'])\n",
    "# Créez une colonne 'Decade' en utilisant le numéro de décade dans le mois\n",
    "decade_ranges = [0, 10, 20, 32]\n",
    "dek_num = [1, 2, 3]\n",
    "df['Day']=df['Date-Time'].dt.day\n",
    "df['Decade'] = pd.cut(df['Day'], bins=decade_ranges, labels=dek_num)\n",
    "# Créez les colonnes 'Year' et 'Month' à partir de la colonne 'Date-Time'\n",
    "df['Year'] = df['Date-Time'].dt.year\n",
    "df['Month'] = df['Date-Time'].dt.month"
   ]
  },
  {
   "cell_type": "markdown",
   "metadata": {},
   "source": [
    "##### II-1 CALCUL DES MOYENNES DECADAIRES "
   ]
  },
  {
   "cell_type": "code",
   "execution_count": 14,
   "metadata": {},
   "outputs": [
    {
     "name": "stdout",
     "output_type": "stream",
     "text": [
      "Moyenne décadaire :\n",
      "               Station  Year  Month Decade  u_wind_700\n",
      "0      Bobo_Dioulasso  1961      1      1   -6.607575\n",
      "1      Bobo_Dioulasso  1961      1      2   -1.387879\n",
      "2      Bobo_Dioulasso  1961      1      3    2.169399\n",
      "3      Bobo_Dioulasso  1961      2      1    3.171007\n",
      "4      Bobo_Dioulasso  1961      2      2    3.065763\n",
      "...               ...   ...    ...    ...         ...\n",
      "21955              Po  2021     11      2   -5.803122\n",
      "21956              Po  2021     11      3   -8.759756\n",
      "21957              Po  2021     12      1   -4.211920\n",
      "21958              Po  2021     12      2   -5.516121\n",
      "21959              Po  2021     12      3   -1.577647\n",
      "\n",
      "[21960 rows x 5 columns]\n"
     ]
    }
   ],
   "source": [
    "# Regroupez par année, mois et décade, puis calculez la moyenne décadaires pour 'd2m (m s**-1)'\n",
    "decade_avg_u_w_700 = df.groupby(['Station','Year', 'Month', 'Decade'])['u_wind_700'].mean()\n",
    "# Réinitialisez l'index pour obtenir une DataFrame propre avec les valeurs calculées\n",
    "decade_avg_u_w_700 = decade_avg_u_w_700.reset_index()\n",
    "#output_file_path = os.path.join(dir_out, str(Config.WIND_V_975_CSV))\n",
    "#output_dek_path = os.path.join(dir_out, str(Config.WIND_U_700_DEK))\n",
    "#decade_avg_u_w_700.to_csv(output_dek_path, index=False)\n",
    "\n",
    "# Affichez les moyennes décadaires\n",
    "print(\"Moyenne décadaire :\\n\", decade_avg_u_w_700)\n",
    "df_terre_dek.append(decade_avg_u_w_700)"
   ]
  },
  {
   "cell_type": "markdown",
   "metadata": {},
   "source": [
    "##### II-2 CALCUL DES MOYENNES MENSUELLES"
   ]
  },
  {
   "cell_type": "code",
   "execution_count": 15,
   "metadata": {},
   "outputs": [
    {
     "name": "stdout",
     "output_type": "stream",
     "text": [
      "\n",
      "Moyenne mensuelle :\n",
      "              Station  Year  Month  u_wind_700\n",
      "0     Bobo_Dioulasso  1961      1   -1.809392\n",
      "1     Bobo_Dioulasso  1961      2    0.458890\n",
      "2     Bobo_Dioulasso  1961      3   -1.004652\n",
      "3     Bobo_Dioulasso  1961      4   -4.718261\n",
      "4     Bobo_Dioulasso  1961      5   -8.676686\n",
      "...              ...   ...    ...         ...\n",
      "7315              Po  2021      8   -6.685376\n",
      "7316              Po  2021      9  -11.709194\n",
      "7317              Po  2021     10  -10.225080\n",
      "7318              Po  2021     11   -7.267599\n",
      "7319              Po  2021     12   -3.697888\n",
      "\n",
      "[7320 rows x 4 columns]\n"
     ]
    }
   ],
   "source": [
    "# Maintenant, calculez la moyenne mensuelle en utilisant le même processus\n",
    "month_avg_u_w_700 = df.groupby(['Station','Year', 'Month'])['u_wind_700'].mean()\n",
    "month_avg_u_w_700 = month_avg_u_w_700.reset_index()\n",
    "# Affichez les moyennes mensuelles\n",
    "print(\"\\nMoyenne mensuelle :\\n\", month_avg_u_w_700)\n",
    "#output_mon_path = os.path.join(dir_out, str(Config.WIND_U_700_MON))\n",
    "#month_avg_u_w_700.to_csv(output_mon_path, index=False)\n",
    "df_terre_mon.append(month_avg_u_w_700)"
   ]
  },
  {
   "cell_type": "markdown",
   "metadata": {},
   "source": [
    "### III- COMPOSANTE U DU VENT À LA 100 hPa"
   ]
  },
  {
   "cell_type": "code",
   "execution_count": 16,
   "metadata": {},
   "outputs": [],
   "source": [
    "# Lecture de fichier de vent u à la 700 hPa\n",
    "u_wind_100=Dataset(str(Config.ERA5_PATH) + '/' + str(Config.WIND_U_100))\n",
    "#Lecture des variables du fichier au format netCDF\n",
    "u100_wind=u_wind_100.variables['u'][:]\n",
    "unitd=u_wind_100.variables['u'].units\n",
    "unit=u_wind_100.variables['time'].units\n",
    "times=u_wind_100.variables['time'][:]\n",
    "lat=u_wind_100.variables['latitude'][:]\n",
    "lon=u_wind_100.variables['longitude'][:]"
   ]
  },
  {
   "cell_type": "code",
   "execution_count": 17,
   "metadata": {},
   "outputs": [
    {
     "name": "stdout",
     "output_type": "stream",
     "text": [
      "Generating time series for Bobo_Dioulasso\n",
      "Generating time series for Bogande\n",
      "Generating time series for Boromo\n",
      "Generating time series for Dedougou\n",
      "Generating time series for Dori\n",
      "Generating time series for Fada_Ngourma\n",
      "Generating time series for Gaoua\n",
      "Generating time series for Ouagadougou_aero\n",
      "Generating time series for Ouahigouya\n",
      "Generating time series for Po\n",
      "All station data is saved in the CSV file: ../ASSETS/DATA/ERA5/u_wind_100.csv\n"
     ]
    }
   ],
   "source": [
    "# Créer un répertoire de sortie s'il n'existe pas déjà\n",
    "dir_out = Config.ERA5_DATA_PATH\n",
    "os.makedirs(dir_out, exist_ok=True)\n",
    "\n",
    "# Créer une liste pour stocker les informations des stations\n",
    "station_data_list = []\n",
    "\n",
    "for index, value in stations.iterrows():\n",
    "    station = value['station']  \n",
    "    \n",
    "    lon_point = value['longitude']  # Assurez-vous que la colonne s'appelle 'Longitude'\n",
    "    lat_point = value['latitude']   # Assurez-vous que la colonne s'appelle 'Latitude'\n",
    "    \n",
    "    # Calcul des carrés des différences entre les latitudes et longitudes\n",
    "    sq_diff_lat = (lat - lat_point) ** 2\n",
    "    sq_diff_lon = (lon - lon_point) ** 2\n",
    "    \n",
    "    print(f\"Generating time series for {station}\")\n",
    "    ref_date = datetime.datetime(int(unit[12:16]), int(unit[17:19]), int(unit[20:22]))\n",
    "    date_range = []\n",
    "    u100_wind_data = []\n",
    "    \n",
    "    for index, time in enumerate(times):\n",
    "        date_time = ref_date + datetime.timedelta(hours=int(time))\n",
    "        date_range.append(date_time)  # Ajoutez l'objet datetime lui-même\n",
    "        u100_wind_data.append(u100_wind[index, sq_diff_lat.argmin(), sq_diff_lon.argmin()])  # Utilisez les indices corrects\n",
    "    station_data_list.append({'Station': station, 'Date-Time': date_range, 'u_wind_100': u100_wind_data})\n",
    "\n",
    "# Création du DataFrame global\n",
    "all_data = pd.DataFrame()\n",
    "\n",
    "for station_data in station_data_list:\n",
    "    df = pd.DataFrame(station_data)\n",
    "    all_data = pd.concat([all_data, df], ignore_index=True)\n",
    "\n",
    "# Enregistrement du DataFrame global dans un fichier CSV\n",
    "output_file_path = os.path.join(dir_out, str(Config.WIND_U_100_CSV))\n",
    "all_data.to_csv(output_file_path, index=False)\n",
    "print(f\"All station data is saved in the CSV file: {output_file_path}\")\n"
   ]
  },
  {
   "cell_type": "code",
   "execution_count": 18,
   "metadata": {},
   "outputs": [
    {
     "data": {
      "text/html": [
       "<div>\n",
       "<style scoped>\n",
       "    .dataframe tbody tr th:only-of-type {\n",
       "        vertical-align: middle;\n",
       "    }\n",
       "\n",
       "    .dataframe tbody tr th {\n",
       "        vertical-align: top;\n",
       "    }\n",
       "\n",
       "    .dataframe thead th {\n",
       "        text-align: right;\n",
       "    }\n",
       "</style>\n",
       "<table border=\"1\" class=\"dataframe\">\n",
       "  <thead>\n",
       "    <tr style=\"text-align: right;\">\n",
       "      <th></th>\n",
       "      <th>Station</th>\n",
       "      <th>Date-Time</th>\n",
       "      <th>u_wind_100</th>\n",
       "    </tr>\n",
       "  </thead>\n",
       "  <tbody>\n",
       "    <tr>\n",
       "      <th>0</th>\n",
       "      <td>Bobo_Dioulasso</td>\n",
       "      <td>1961-01-01 00:00:00</td>\n",
       "      <td>13.119489</td>\n",
       "    </tr>\n",
       "    <tr>\n",
       "      <th>1</th>\n",
       "      <td>Bobo_Dioulasso</td>\n",
       "      <td>1961-01-01 06:00:00</td>\n",
       "      <td>12.816139</td>\n",
       "    </tr>\n",
       "    <tr>\n",
       "      <th>2</th>\n",
       "      <td>Bobo_Dioulasso</td>\n",
       "      <td>1961-01-01 12:00:00</td>\n",
       "      <td>13.254617</td>\n",
       "    </tr>\n",
       "    <tr>\n",
       "      <th>3</th>\n",
       "      <td>Bobo_Dioulasso</td>\n",
       "      <td>1961-01-01 18:00:00</td>\n",
       "      <td>17.120947</td>\n",
       "    </tr>\n",
       "    <tr>\n",
       "      <th>4</th>\n",
       "      <td>Bobo_Dioulasso</td>\n",
       "      <td>1961-01-02 00:00:00</td>\n",
       "      <td>19.713208</td>\n",
       "    </tr>\n",
       "  </tbody>\n",
       "</table>\n",
       "</div>"
      ],
      "text/plain": [
       "          Station           Date-Time  u_wind_100\n",
       "0  Bobo_Dioulasso 1961-01-01 00:00:00   13.119489\n",
       "1  Bobo_Dioulasso 1961-01-01 06:00:00   12.816139\n",
       "2  Bobo_Dioulasso 1961-01-01 12:00:00   13.254617\n",
       "3  Bobo_Dioulasso 1961-01-01 18:00:00   17.120947\n",
       "4  Bobo_Dioulasso 1961-01-02 00:00:00   19.713208"
      ]
     },
     "execution_count": 18,
     "metadata": {},
     "output_type": "execute_result"
    }
   ],
   "source": [
    "all_data.head()"
   ]
  },
  {
   "cell_type": "code",
   "execution_count": 19,
   "metadata": {},
   "outputs": [],
   "source": [
    "# Supposons que vous ayez déjà chargé vos données dans un DataFrame appelé 'df'\n",
    "# Assurez-vous que la colonne 'Date-Time' est en format de datetime\n",
    "df=all_data.copy()\n",
    "df['Date-Time'] = pd.to_datetime(df['Date-Time'])\n",
    "# Créez une colonne 'Decade' en utilisant le numéro de décade dans le mois\n",
    "decade_ranges = [0, 10, 20, 32]\n",
    "dek_num = [1, 2, 3]\n",
    "df['Day']=df['Date-Time'].dt.day\n",
    "df['Decade'] = pd.cut(df['Day'], bins=decade_ranges, labels=dek_num)\n",
    "# Créez les colonnes 'Year' et 'Month' à partir de la colonne 'Date-Time'\n",
    "df['Year'] = df['Date-Time'].dt.year\n",
    "df['Month'] = df['Date-Time'].dt.month"
   ]
  },
  {
   "cell_type": "markdown",
   "metadata": {},
   "source": [
    "##### III-1 CALCUL DES MOYENNES DECADAIRES "
   ]
  },
  {
   "cell_type": "code",
   "execution_count": 20,
   "metadata": {},
   "outputs": [
    {
     "name": "stdout",
     "output_type": "stream",
     "text": [
      "Moyenne décadaire :\n",
      "               Station  Year  Month Decade  u_wind_100\n",
      "0      Bobo_Dioulasso  1961      1      1   16.585018\n",
      "1      Bobo_Dioulasso  1961      1      2   18.501326\n",
      "2      Bobo_Dioulasso  1961      1      3   17.749175\n",
      "3      Bobo_Dioulasso  1961      2      1    9.010893\n",
      "4      Bobo_Dioulasso  1961      2      2   11.091734\n",
      "...               ...   ...    ...    ...         ...\n",
      "21955              Po  2021     11      2    7.834724\n",
      "21956              Po  2021     11      3    5.852299\n",
      "21957              Po  2021     12      1   11.448239\n",
      "21958              Po  2021     12      2   18.516873\n",
      "21959              Po  2021     12      3   17.013145\n",
      "\n",
      "[21960 rows x 5 columns]\n"
     ]
    }
   ],
   "source": [
    "# Regroupez par année, mois et décade, puis calculez la moyenne décadaires pour 'd2m (m s**-1)'\n",
    "decade_avg_u_w_100 = df.groupby(['Station','Year', 'Month', 'Decade'])['u_wind_100'].mean()\n",
    "# Réinitialisez l'index pour obtenir une DataFrame propre avec les valeurs calculées\n",
    "decade_avg_u_w_100 = decade_avg_u_w_100.reset_index()\n",
    "#output_file_path = os.path.join(dir_out, str(Config.WIND_V_975_CSV))\n",
    "#output_dek_path = os.path.join(dir_out, str(Config.WIND_U_100_DEK))\n",
    "#decade_avg_u_w_100.to_csv(output_dek_path, index=False)\n",
    "\n",
    "# Affichez les moyennes décadaires\n",
    "print(\"Moyenne décadaire :\\n\", decade_avg_u_w_100)\n",
    "df_terre_dek.append(decade_avg_u_w_100)"
   ]
  },
  {
   "cell_type": "markdown",
   "metadata": {},
   "source": [
    "##### III-2 CALCUL DES MOYENNES MENSUELLES"
   ]
  },
  {
   "cell_type": "code",
   "execution_count": 21,
   "metadata": {},
   "outputs": [
    {
     "name": "stdout",
     "output_type": "stream",
     "text": [
      "\n",
      "Moyenne mensuelle :\n",
      "              Station  Year  Month  u_wind_100\n",
      "0     Bobo_Dioulasso  1961      1   17.616270\n",
      "1     Bobo_Dioulasso  1961      2   12.566036\n",
      "2     Bobo_Dioulasso  1961      3   16.747609\n",
      "3     Bobo_Dioulasso  1961      4    5.372466\n",
      "4     Bobo_Dioulasso  1961      5   -4.629670\n",
      "...              ...   ...    ...         ...\n",
      "7315              Po  2021      8  -15.133298\n",
      "7316              Po  2021      9   -8.326725\n",
      "7317              Po  2021     10   -2.909251\n",
      "7318              Po  2021     11    7.878928\n",
      "7319              Po  2021     12   15.703087\n",
      "\n",
      "[7320 rows x 4 columns]\n"
     ]
    }
   ],
   "source": [
    "# Maintenant, calculez la moyenne mensuelle en utilisant le même processus\n",
    "month_avg_u_w_100 = df.groupby(['Station','Year', 'Month'])['u_wind_100'].mean()\n",
    "month_avg_u_w_100 = month_avg_u_w_100.reset_index()\n",
    "# Affichez les moyennes mensuelles\n",
    "print(\"\\nMoyenne mensuelle :\\n\", month_avg_u_w_100)\n",
    "output_mon_path = os.path.join(dir_out, str(Config.WIND_U_100_MON))\n",
    "month_avg_u_w_100.to_csv(output_mon_path, index=False)\n",
    "df_terre_mon.append(month_avg_u_w_100)"
   ]
  },
  {
   "cell_type": "markdown",
   "metadata": {},
   "source": [
    "### IV- EAU PRECIPITABLE"
   ]
  },
  {
   "cell_type": "code",
   "execution_count": 22,
   "metadata": {},
   "outputs": [],
   "source": [
    "# Lecture de fichier de vent u à la 700 hPa\n",
    "eau_precipitable=Dataset(str(Config.ERA5_PATH) + '/' + str(Config.EAU_PREC))\n",
    "#Lecture des variables du fichier au format netCDF\n",
    "eau_prec=eau_precipitable.variables['p79.162'][:]\n",
    "unitd=eau_precipitable.variables['p79.162'].units\n",
    "unit=eau_precipitable.variables['time'].units\n",
    "times=eau_precipitable.variables['time'][:]\n",
    "lat=eau_precipitable.variables['latitude'][:]\n",
    "lon=eau_precipitable.variables['longitude'][:]\n",
    "#expv=eau_precipitable.variables['expver'][:]"
   ]
  },
  {
   "cell_type": "code",
   "execution_count": 23,
   "metadata": {},
   "outputs": [
    {
     "name": "stdout",
     "output_type": "stream",
     "text": [
      "Generating time series for Bobo_Dioulasso\n",
      "Generating time series for Bogande\n",
      "Generating time series for Boromo\n",
      "Generating time series for Dedougou\n",
      "Generating time series for Dori\n",
      "Generating time series for Fada_Ngourma\n",
      "Generating time series for Gaoua\n",
      "Generating time series for Ouagadougou_aero\n",
      "Generating time series for Ouahigouya\n",
      "Generating time series for Po\n",
      "All station data is saved in the CSV file: ../ASSETS/DATA/ERA5/eau_prec.csv\n"
     ]
    }
   ],
   "source": [
    "# Créer un répertoire de sortie s'il n'existe pas déjà\n",
    "dir_out = Config.ERA5_DATA_PATH\n",
    "os.makedirs(dir_out, exist_ok=True)\n",
    "\n",
    "# Créer une liste pour stocker les informations des stations\n",
    "station_data_list = []\n",
    "\n",
    "for index, value in stations.iterrows():\n",
    "    station = value['station']  \n",
    "    \n",
    "    lon_point = value['longitude']  # Assurez-vous que la colonne s'appelle 'Longitude'\n",
    "    lat_point = value['latitude']   # Assurez-vous que la colonne s'appelle 'Latitude'\n",
    "    \n",
    "    # Calcul des carrés des différences entre les latitudes et longitudes\n",
    "    sq_diff_lat = (lat - lat_point) ** 2\n",
    "    sq_diff_lon = (lon - lon_point) ** 2\n",
    "    \n",
    "    print(f\"Generating time series for {station}\")\n",
    "    ref_date = datetime.datetime(int(unit[12:16]), int(unit[17:19]), int(unit[20:22]))\n",
    "    date_range = []\n",
    "    eau_prec_data = []\n",
    "    \n",
    "    for index, time in enumerate(times):\n",
    "        date_time = ref_date + datetime.timedelta(hours=int(time))\n",
    "        date_range.append(date_time)  # Ajoutez l'objet datetime lui-même\n",
    "        eau_prec_data.append(eau_prec[index, sq_diff_lat.argmin(), sq_diff_lon.argmin()])  #expv[1] Utilisez les indices corrects\n",
    "    station_data_list.append({'Station': station, 'Date-Time': date_range, 'eau_precipitable': eau_prec_data})\n",
    "\n",
    "# Création du DataFrame global\n",
    "all_data = pd.DataFrame()\n",
    "\n",
    "for station_data in station_data_list:\n",
    "    df = pd.DataFrame(station_data)\n",
    "    all_data = pd.concat([all_data, df], ignore_index=True)\n",
    "\n",
    "# Enregistrement du DataFrame global dans un fichier CSV\n",
    "output_file_path = os.path.join(dir_out, str(Config.EAU_PREC_CSV))\n",
    "all_data.to_csv(output_file_path, index=False)\n",
    "print(f\"All station data is saved in the CSV file: {output_file_path}\")"
   ]
  },
  {
   "cell_type": "code",
   "execution_count": 24,
   "metadata": {},
   "outputs": [
    {
     "data": {
      "text/html": [
       "<div>\n",
       "<style scoped>\n",
       "    .dataframe tbody tr th:only-of-type {\n",
       "        vertical-align: middle;\n",
       "    }\n",
       "\n",
       "    .dataframe tbody tr th {\n",
       "        vertical-align: top;\n",
       "    }\n",
       "\n",
       "    .dataframe thead th {\n",
       "        text-align: right;\n",
       "    }\n",
       "</style>\n",
       "<table border=\"1\" class=\"dataframe\">\n",
       "  <thead>\n",
       "    <tr style=\"text-align: right;\">\n",
       "      <th></th>\n",
       "      <th>Station</th>\n",
       "      <th>Date-Time</th>\n",
       "      <th>eau_precipitable</th>\n",
       "    </tr>\n",
       "  </thead>\n",
       "  <tbody>\n",
       "    <tr>\n",
       "      <th>0</th>\n",
       "      <td>Bobo_Dioulasso</td>\n",
       "      <td>1961-01-01 00:00:00</td>\n",
       "      <td>-3.419611e-07</td>\n",
       "    </tr>\n",
       "    <tr>\n",
       "      <th>1</th>\n",
       "      <td>Bobo_Dioulasso</td>\n",
       "      <td>1961-01-01 06:00:00</td>\n",
       "      <td>-1.778531e-06</td>\n",
       "    </tr>\n",
       "    <tr>\n",
       "      <th>2</th>\n",
       "      <td>Bobo_Dioulasso</td>\n",
       "      <td>1961-01-01 12:00:00</td>\n",
       "      <td>-2.240338e-07</td>\n",
       "    </tr>\n",
       "    <tr>\n",
       "      <th>3</th>\n",
       "      <td>Bobo_Dioulasso</td>\n",
       "      <td>1961-01-01 18:00:00</td>\n",
       "      <td>1.511897e-07</td>\n",
       "    </tr>\n",
       "    <tr>\n",
       "      <th>4</th>\n",
       "      <td>Bobo_Dioulasso</td>\n",
       "      <td>1961-01-02 00:00:00</td>\n",
       "      <td>-6.957432e-07</td>\n",
       "    </tr>\n",
       "  </tbody>\n",
       "</table>\n",
       "</div>"
      ],
      "text/plain": [
       "          Station           Date-Time  eau_precipitable\n",
       "0  Bobo_Dioulasso 1961-01-01 00:00:00     -3.419611e-07\n",
       "1  Bobo_Dioulasso 1961-01-01 06:00:00     -1.778531e-06\n",
       "2  Bobo_Dioulasso 1961-01-01 12:00:00     -2.240338e-07\n",
       "3  Bobo_Dioulasso 1961-01-01 18:00:00      1.511897e-07\n",
       "4  Bobo_Dioulasso 1961-01-02 00:00:00     -6.957432e-07"
      ]
     },
     "execution_count": 24,
     "metadata": {},
     "output_type": "execute_result"
    }
   ],
   "source": [
    "all_data.head()"
   ]
  },
  {
   "cell_type": "code",
   "execution_count": 25,
   "metadata": {},
   "outputs": [],
   "source": [
    "# Supposons que vous ayez déjà chargé vos données dans un DataFrame appelé 'df'\n",
    "# Assurez-vous que la colonne 'Date-Time' est en format de datetime\n",
    "df=all_data.copy()\n",
    "df['Date-Time'] = pd.to_datetime(df['Date-Time'])\n",
    "# Créez une colonne 'Decade' en utilisant le numéro de décade dans le mois\n",
    "decade_ranges = [0, 10, 20, 32]\n",
    "dek_num = [1, 2, 3]\n",
    "df['Day']=df['Date-Time'].dt.day\n",
    "df['Decade'] = pd.cut(df['Day'], bins=decade_ranges, labels=dek_num)\n",
    "# Créez les colonnes 'Year' et 'Month' à partir de la colonne 'Date-Time'\n",
    "df['Year'] = df['Date-Time'].dt.year\n",
    "df['Month'] = df['Date-Time'].dt.month"
   ]
  },
  {
   "cell_type": "markdown",
   "metadata": {},
   "source": [
    "##### IV-1 CALCUL DES MOYENNES DECADAIRES "
   ]
  },
  {
   "cell_type": "code",
   "execution_count": 26,
   "metadata": {},
   "outputs": [
    {
     "name": "stdout",
     "output_type": "stream",
     "text": [
      "Moyenne décadaire :\n",
      "               Station  Year  Month Decade  eau_precipitable\n",
      "0      Bobo_Dioulasso  1961      1      1      7.668101e-08\n",
      "1      Bobo_Dioulasso  1961      1      2     -2.891759e-08\n",
      "2      Bobo_Dioulasso  1961      1      3     -8.290206e-07\n",
      "3      Bobo_Dioulasso  1961      2      1     -4.955488e-08\n",
      "4      Bobo_Dioulasso  1961      2      2     -1.390865e-08\n",
      "...               ...   ...    ...    ...               ...\n",
      "21955              Po  2021     11      2     -2.084888e-07\n",
      "21956              Po  2021     11      3     -7.689258e-08\n",
      "21957              Po  2021     12      1      4.907528e-08\n",
      "21958              Po  2021     12      2     -1.235275e-07\n",
      "21959              Po  2021     12      3      4.267757e-09\n",
      "\n",
      "[21960 rows x 5 columns]\n"
     ]
    }
   ],
   "source": [
    "# Regroupez par année, mois et décade, puis calculez la moyenne décadaires pour 'd2m (m s**-1)'\n",
    "decade_avg_eau_prec = df.groupby(['Station','Year', 'Month', 'Decade'])['eau_precipitable'].mean()\n",
    "# Réinitialisez l'index pour obtenir une DataFrame propre avec les valeurs calculées\n",
    "decade_avg_eau_prec = decade_avg_eau_prec.reset_index()\n",
    "#output_file_path = os.path.join(dir_out, str(Config.WIND_V_975_CSV))\n",
    "output_dek_path = os.path.join(dir_out, str(Config.EAU_PREC_CSV_DEK))\n",
    "decade_avg_eau_prec.to_csv(output_dek_path, index=False)\n",
    "\n",
    "# Affichez les moyennes décadaires\n",
    "print(\"Moyenne décadaire :\\n\", decade_avg_eau_prec)\n",
    "df_terre_dek.append(decade_avg_eau_prec)"
   ]
  },
  {
   "cell_type": "markdown",
   "metadata": {},
   "source": [
    "##### IV-2 CALCUL DES MOYENNES MENSUELLES"
   ]
  },
  {
   "cell_type": "code",
   "execution_count": 27,
   "metadata": {},
   "outputs": [
    {
     "name": "stdout",
     "output_type": "stream",
     "text": [
      "\n",
      "Moyenne mensuelle :\n",
      "              Station  Year  Month  eau_precipitable\n",
      "0     Bobo_Dioulasso  1961      1     -2.787611e-07\n",
      "1     Bobo_Dioulasso  1961      2     -4.130379e-08\n",
      "2     Bobo_Dioulasso  1961      3      2.225167e-07\n",
      "3     Bobo_Dioulasso  1961      4      8.248803e-08\n",
      "4     Bobo_Dioulasso  1961      5     -1.169135e-07\n",
      "...              ...   ...    ...               ...\n",
      "7315              Po  2021      8     -1.110345e-07\n",
      "7316              Po  2021      9     -2.996145e-07\n",
      "7317              Po  2021     10      2.185397e-07\n",
      "7318              Po  2021     11     -6.295571e-08\n",
      "7319              Po  2021     12     -2.250248e-08\n",
      "\n",
      "[7320 rows x 4 columns]\n"
     ]
    }
   ],
   "source": [
    "# Maintenant, calculez la moyenne mensuelle en utilisant le même processus\n",
    "month_avg_eau_prec = df.groupby(['Station','Year', 'Month'])['eau_precipitable'].mean()\n",
    "month_avg_eau_prec = month_avg_eau_prec.reset_index()\n",
    "# Affichez les moyennes mensuelles\n",
    "print(\"\\nMoyenne mensuelle :\\n\", month_avg_eau_prec)\n",
    "output_mon_path = os.path.join(dir_out, str(Config.EAU_PREC_CSV_MON))\n",
    "month_avg_eau_prec.to_csv(output_mon_path, index=False)\n",
    "df_terre_mon.append(month_avg_eau_prec)"
   ]
  },
  {
   "cell_type": "markdown",
   "metadata": {},
   "source": [
    "### V- TEMPERATURE DE POINT DE ROSÉE"
   ]
  },
  {
   "cell_type": "code",
   "execution_count": 28,
   "metadata": {},
   "outputs": [],
   "source": [
    "# Lecture de fichier de vent u à la 700 hPa\n",
    "t_point_rosee=Dataset(str(Config.ERA5_PATH) + '/' + str(Config.POINT_ROSEE))\n",
    "#Lecture des variables du fichier au format netCDF\n",
    "point_rosee=t_point_rosee.variables['d2m'][:]\n",
    "unitd=t_point_rosee.variables['d2m'].units\n",
    "unit=t_point_rosee.variables['time'].units\n",
    "times=t_point_rosee.variables['time'][:]\n",
    "lat=t_point_rosee.variables['latitude'][:]\n",
    "lon=t_point_rosee.variables['longitude'][:]"
   ]
  },
  {
   "cell_type": "code",
   "execution_count": 29,
   "metadata": {},
   "outputs": [
    {
     "name": "stdout",
     "output_type": "stream",
     "text": [
      "Generating time series for Bobo_Dioulasso\n",
      "Generating time series for Bogande\n",
      "Generating time series for Boromo\n",
      "Generating time series for Dedougou\n",
      "Generating time series for Dori\n",
      "Generating time series for Fada_Ngourma\n",
      "Generating time series for Gaoua\n",
      "Generating time series for Ouagadougou_aero\n",
      "Generating time series for Ouahigouya\n",
      "Generating time series for Po\n",
      "All station data is saved in the CSV file: ../ASSETS/DATA/ERA5/point_rosee.csv\n"
     ]
    }
   ],
   "source": [
    "# Créer un répertoire de sortie s'il n'existe pas déjà\n",
    "dir_out = Config.ERA5_DATA_PATH\n",
    "os.makedirs(dir_out, exist_ok=True)\n",
    "\n",
    "# Créer une liste pour stocker les informations des stations\n",
    "station_data_list = []\n",
    "\n",
    "for index, value in stations.iterrows():\n",
    "    station = value['station']  \n",
    "    \n",
    "    lon_point = value['longitude']  # Assurez-vous que la colonne s'appelle 'Longitude'\n",
    "    lat_point = value['latitude']   # Assurez-vous que la colonne s'appelle 'Latitude'\n",
    "    \n",
    "    # Calcul des carrés des différences entre les latitudes et longitudes\n",
    "    sq_diff_lat = (lat - lat_point) ** 2\n",
    "    sq_diff_lon = (lon - lon_point) ** 2\n",
    "    \n",
    "    print(f\"Generating time series for {station}\")\n",
    "    ref_date = datetime.datetime(int(unit[12:16]), int(unit[17:19]), int(unit[20:22]))\n",
    "    date_range = []\n",
    "    point_rosee_data = []\n",
    "    \n",
    "    for index, time in enumerate(times):\n",
    "        date_time = ref_date + datetime.timedelta(hours=int(time))\n",
    "        date_range.append(date_time)  # Ajoutez l'objet datetime lui-même\n",
    "        point_rosee_data.append(point_rosee[index, sq_diff_lat.argmin(), sq_diff_lon.argmin()])  # Utilisez les indices corrects\n",
    "    station_data_list.append({'Station': station,'Date-Time': date_range, 't_point_rosee': point_rosee_data})\n",
    "\n",
    "# Création du DataFrame global\n",
    "all_data = pd.DataFrame()\n",
    "\n",
    "for station_data in station_data_list:\n",
    "    df = pd.DataFrame(station_data)\n",
    "    all_data = pd.concat([all_data, df], ignore_index=True)\n",
    "\n",
    "# Enregistrement du DataFrame global dans un fichier CSV\n",
    "output_file_path = os.path.join(dir_out, str(Config.POINT_ROSEE_CSV))\n",
    "all_data.to_csv(output_file_path, index=False)\n",
    "print(f\"All station data is saved in the CSV file: {output_file_path}\")"
   ]
  },
  {
   "cell_type": "code",
   "execution_count": 30,
   "metadata": {},
   "outputs": [
    {
     "data": {
      "text/html": [
       "<div>\n",
       "<style scoped>\n",
       "    .dataframe tbody tr th:only-of-type {\n",
       "        vertical-align: middle;\n",
       "    }\n",
       "\n",
       "    .dataframe tbody tr th {\n",
       "        vertical-align: top;\n",
       "    }\n",
       "\n",
       "    .dataframe thead th {\n",
       "        text-align: right;\n",
       "    }\n",
       "</style>\n",
       "<table border=\"1\" class=\"dataframe\">\n",
       "  <thead>\n",
       "    <tr style=\"text-align: right;\">\n",
       "      <th></th>\n",
       "      <th>Station</th>\n",
       "      <th>Date-Time</th>\n",
       "      <th>t_point_rosee</th>\n",
       "    </tr>\n",
       "  </thead>\n",
       "  <tbody>\n",
       "    <tr>\n",
       "      <th>0</th>\n",
       "      <td>Bobo_Dioulasso</td>\n",
       "      <td>1961-01-01 00:00:00</td>\n",
       "      <td>270.459415</td>\n",
       "    </tr>\n",
       "    <tr>\n",
       "      <th>1</th>\n",
       "      <td>Bobo_Dioulasso</td>\n",
       "      <td>1961-01-01 06:00:00</td>\n",
       "      <td>270.785245</td>\n",
       "    </tr>\n",
       "    <tr>\n",
       "      <th>2</th>\n",
       "      <td>Bobo_Dioulasso</td>\n",
       "      <td>1961-01-01 12:00:00</td>\n",
       "      <td>271.654417</td>\n",
       "    </tr>\n",
       "    <tr>\n",
       "      <th>3</th>\n",
       "      <td>Bobo_Dioulasso</td>\n",
       "      <td>1961-01-01 18:00:00</td>\n",
       "      <td>276.274565</td>\n",
       "    </tr>\n",
       "    <tr>\n",
       "      <th>4</th>\n",
       "      <td>Bobo_Dioulasso</td>\n",
       "      <td>1961-01-02 00:00:00</td>\n",
       "      <td>274.508269</td>\n",
       "    </tr>\n",
       "  </tbody>\n",
       "</table>\n",
       "</div>"
      ],
      "text/plain": [
       "          Station           Date-Time  t_point_rosee\n",
       "0  Bobo_Dioulasso 1961-01-01 00:00:00     270.459415\n",
       "1  Bobo_Dioulasso 1961-01-01 06:00:00     270.785245\n",
       "2  Bobo_Dioulasso 1961-01-01 12:00:00     271.654417\n",
       "3  Bobo_Dioulasso 1961-01-01 18:00:00     276.274565\n",
       "4  Bobo_Dioulasso 1961-01-02 00:00:00     274.508269"
      ]
     },
     "execution_count": 30,
     "metadata": {},
     "output_type": "execute_result"
    }
   ],
   "source": [
    "all_data.head()"
   ]
  },
  {
   "cell_type": "code",
   "execution_count": 31,
   "metadata": {},
   "outputs": [],
   "source": [
    "# Supposons que vous ayez déjà chargé vos données dans un DataFrame appelé 'df'\n",
    "# Assurez-vous que la colonne 'Date-Time' est en format de datetime\n",
    "df=all_data.copy()\n",
    "df['Date-Time'] = pd.to_datetime(df['Date-Time'])\n",
    "# Créez une colonne 'Decade' en utilisant le numéro de décade dans le mois\n",
    "decade_ranges = [0, 10, 20, 32]\n",
    "dek_num = [1, 2, 3]\n",
    "df['Day']=df['Date-Time'].dt.day\n",
    "df['Decade'] = pd.cut(df['Day'], bins=decade_ranges, labels=dek_num)\n",
    "# Créez les colonnes 'Year' et 'Month' à partir de la colonne 'Date-Time'\n",
    "df['Year'] = df['Date-Time'].dt.year\n",
    "df['Month'] = df['Date-Time'].dt.month"
   ]
  },
  {
   "cell_type": "markdown",
   "metadata": {},
   "source": [
    "##### V-1 CALCUL DES MOYENNES DECADAIRES "
   ]
  },
  {
   "cell_type": "code",
   "execution_count": 32,
   "metadata": {},
   "outputs": [
    {
     "name": "stdout",
     "output_type": "stream",
     "text": [
      "Moyenne décadaire :\n",
      "               Station  Year  Month Decade  t_point_rosee\n",
      "0      Bobo_Dioulasso  1961      1      1     274.869892\n",
      "1      Bobo_Dioulasso  1961      1      2     274.777057\n",
      "2      Bobo_Dioulasso  1961      1      3     274.205329\n",
      "3      Bobo_Dioulasso  1961      2      1     270.083815\n",
      "4      Bobo_Dioulasso  1961      2      2     269.565937\n",
      "...               ...   ...    ...    ...            ...\n",
      "21955              Po  2021     11      2     289.186040\n",
      "21956              Po  2021     11      3     285.818809\n",
      "21957              Po  2021     12      1     282.116991\n",
      "21958              Po  2021     12      2     279.155191\n",
      "21959              Po  2021     12      3     275.489273\n",
      "\n",
      "[21960 rows x 5 columns]\n"
     ]
    }
   ],
   "source": [
    "# Regroupez par année, mois et décade, puis calculez la moyenne décadaires pour 'd2m (m s**-1)'\n",
    "decade_avg_pt_ros = df.groupby(['Station','Year', 'Month', 'Decade'])['t_point_rosee'].mean()\n",
    "# Réinitialisez l'index pour obtenir une DataFrame propre avec les valeurs calculées\n",
    "decade_avg_pt_ros = decade_avg_pt_ros.reset_index()\n",
    "#output_file_path = os.path.join(dir_out, str(Config.WIND_V_975_CSV))\n",
    "output_dek_path = os.path.join(dir_out, str(Config.POINT_ROSEE_CSV_DEK))\n",
    "decade_avg_pt_ros.to_csv(output_dek_path, index=False)\n",
    "df_terre_dek.append(decade_avg_pt_ros)\n",
    "# Affichez les moyennes décadaires\n",
    "print(\"Moyenne décadaire :\\n\", decade_avg_pt_ros)"
   ]
  },
  {
   "cell_type": "markdown",
   "metadata": {},
   "source": [
    "##### V-2 CALCUL DES MOYENNES MENSUELLES"
   ]
  },
  {
   "cell_type": "code",
   "execution_count": 33,
   "metadata": {},
   "outputs": [
    {
     "name": "stdout",
     "output_type": "stream",
     "text": [
      "\n",
      "Moyenne mensuelle :\n",
      "              Station  Year  Month  t_point_rosee\n",
      "0     Bobo_Dioulasso  1961      1     274.604133\n",
      "1     Bobo_Dioulasso  1961      2     270.981565\n",
      "2     Bobo_Dioulasso  1961      3     276.209542\n",
      "3     Bobo_Dioulasso  1961      4     291.349840\n",
      "4     Bobo_Dioulasso  1961      5     294.730945\n",
      "...              ...   ...    ...            ...\n",
      "7315              Po  2021      8     296.557268\n",
      "7316              Po  2021      9     296.768992\n",
      "7317              Po  2021     10     296.601037\n",
      "7318              Po  2021     11     289.805219\n",
      "7319              Po  2021     12     278.809800\n",
      "\n",
      "[7320 rows x 4 columns]\n"
     ]
    }
   ],
   "source": [
    "# Maintenant, calculez la moyenne mensuelle en utilisant le même processus\n",
    "month_avg_pt_ros = df.groupby(['Station','Year', 'Month'])['t_point_rosee'].mean()\n",
    "month_avg_pt_ros = month_avg_pt_ros.reset_index()\n",
    "# Affichez les moyennes mensuelles\n",
    "print(\"\\nMoyenne mensuelle :\\n\", month_avg_pt_ros)\n",
    "output_mon_path = os.path.join(dir_out, str(Config.POINT_ROSEE_CSV_MON))\n",
    "month_avg_pt_ros.to_csv(output_mon_path, index=False)\n",
    "df_terre_mon.append(month_avg_pt_ros)"
   ]
  },
  {
   "cell_type": "markdown",
   "metadata": {},
   "source": [
    "### VI- HUMIDITE DU SOL"
   ]
  },
  {
   "cell_type": "code",
   "execution_count": 34,
   "metadata": {},
   "outputs": [],
   "source": [
    "# Lecture de fichier de vent u à la 700 hPa\n",
    "h_vol_sol_wat=Dataset(str(Config.ERA5_PATH) + '/' + str(Config.SOL_WATERPOINT))"
   ]
  },
  {
   "cell_type": "code",
   "execution_count": 35,
   "metadata": {},
   "outputs": [],
   "source": [
    "# Lecture de fichier de vent u à la 700 hPa\n",
    "h_vol_sol_wat=Dataset(str(Config.ERA5_PATH) + '/' + str(Config.SOL_WATERPOINT))\n",
    "#Lecture des variables du fichier au format netCDF\n",
    "volum_wat=h_vol_sol_wat.variables['swvl1'][:]\n",
    "unitd=h_vol_sol_wat.variables['swvl1'].units\n",
    "unit=h_vol_sol_wat.variables['time'].units\n",
    "times=h_vol_sol_wat.variables['time'][:]\n",
    "lat=h_vol_sol_wat.variables['latitude'][:]\n",
    "lon=h_vol_sol_wat.variables['longitude'][:]"
   ]
  },
  {
   "cell_type": "code",
   "execution_count": 36,
   "metadata": {},
   "outputs": [
    {
     "name": "stdout",
     "output_type": "stream",
     "text": [
      "Generating time series for Bobo_Dioulasso\n",
      "Generating time series for Bogande\n",
      "Generating time series for Boromo\n",
      "Generating time series for Dedougou\n",
      "Generating time series for Dori\n",
      "Generating time series for Fada_Ngourma\n",
      "Generating time series for Gaoua\n",
      "Generating time series for Ouagadougou_aero\n",
      "Generating time series for Ouahigouya\n",
      "Generating time series for Po\n",
      "All station data is saved in the CSV file: ../ASSETS/DATA/ERA5/vol_soil_water.csv\n"
     ]
    }
   ],
   "source": [
    "# Créer un répertoire de sortie s'il n'existe pas déjà\n",
    "dir_out = Config.ERA5_DATA_PATH\n",
    "os.makedirs(dir_out, exist_ok=True)\n",
    "\n",
    "# Créer une liste pour stocker les informations des stations\n",
    "station_data_list = []\n",
    "\n",
    "for index, value in stations.iterrows():\n",
    "    station = value['station']  \n",
    "    \n",
    "    lon_point = value['longitude']  # Assurez-vous que la colonne s'appelle 'Longitude'\n",
    "    lat_point = value['latitude']   # Assurez-vous que la colonne s'appelle 'Latitude'\n",
    "    \n",
    "    # Calcul des carrés des différences entre les latitudes et longitudes\n",
    "    sq_diff_lat = (lat - lat_point) ** 2\n",
    "    sq_diff_lon = (lon - lon_point) ** 2\n",
    "    \n",
    "    print(f\"Generating time series for {station}\")\n",
    "    ref_date = datetime.datetime(int(unit[12:16]), int(unit[17:19]), int(unit[20:22]))\n",
    "    date_range = []\n",
    "    volum_wat_data = []\n",
    "    \n",
    "    for index, time in enumerate(times):\n",
    "        date_time = ref_date + datetime.timedelta(hours=int(time))\n",
    "        date_range.append(date_time)  # Ajoutez l'objet datetime lui-même\n",
    "        volum_wat_data.append(volum_wat[index, sq_diff_lat.argmin(), sq_diff_lon.argmin()])  # Utilisez les indices corrects\n",
    "    station_data_list.append({'Station': station,'Date-Time': date_range, 'h_vol_sol_wat': volum_wat_data})\n",
    "\n",
    "# Création du DataFrame global\n",
    "all_data = pd.DataFrame()\n",
    "\n",
    "for station_data in station_data_list:\n",
    "    df = pd.DataFrame(station_data)\n",
    "    all_data = pd.concat([all_data, df], ignore_index=True)\n",
    "\n",
    "# Enregistrement du DataFrame global dans un fichier CSV\n",
    "output_file_path = os.path.join(dir_out, str(Config.SOL_WATERPOINT_CSV))\n",
    "all_data.to_csv(output_file_path, index=False)\n",
    "print(f\"All station data is saved in the CSV file: {output_file_path}\")"
   ]
  },
  {
   "cell_type": "code",
   "execution_count": 37,
   "metadata": {},
   "outputs": [
    {
     "data": {
      "text/html": [
       "<div>\n",
       "<style scoped>\n",
       "    .dataframe tbody tr th:only-of-type {\n",
       "        vertical-align: middle;\n",
       "    }\n",
       "\n",
       "    .dataframe tbody tr th {\n",
       "        vertical-align: top;\n",
       "    }\n",
       "\n",
       "    .dataframe thead th {\n",
       "        text-align: right;\n",
       "    }\n",
       "</style>\n",
       "<table border=\"1\" class=\"dataframe\">\n",
       "  <thead>\n",
       "    <tr style=\"text-align: right;\">\n",
       "      <th></th>\n",
       "      <th>Station</th>\n",
       "      <th>Date-Time</th>\n",
       "      <th>h_vol_sol_wat</th>\n",
       "    </tr>\n",
       "  </thead>\n",
       "  <tbody>\n",
       "    <tr>\n",
       "      <th>0</th>\n",
       "      <td>Bobo_Dioulasso</td>\n",
       "      <td>1961-01-01 00:00:00</td>\n",
       "      <td>0.167690</td>\n",
       "    </tr>\n",
       "    <tr>\n",
       "      <th>1</th>\n",
       "      <td>Bobo_Dioulasso</td>\n",
       "      <td>1961-01-01 06:00:00</td>\n",
       "      <td>0.167649</td>\n",
       "    </tr>\n",
       "    <tr>\n",
       "      <th>2</th>\n",
       "      <td>Bobo_Dioulasso</td>\n",
       "      <td>1961-01-01 12:00:00</td>\n",
       "      <td>0.167177</td>\n",
       "    </tr>\n",
       "    <tr>\n",
       "      <th>3</th>\n",
       "      <td>Bobo_Dioulasso</td>\n",
       "      <td>1961-01-01 18:00:00</td>\n",
       "      <td>0.166498</td>\n",
       "    </tr>\n",
       "    <tr>\n",
       "      <th>4</th>\n",
       "      <td>Bobo_Dioulasso</td>\n",
       "      <td>1961-01-02 00:00:00</td>\n",
       "      <td>0.177357</td>\n",
       "    </tr>\n",
       "  </tbody>\n",
       "</table>\n",
       "</div>"
      ],
      "text/plain": [
       "          Station           Date-Time  h_vol_sol_wat\n",
       "0  Bobo_Dioulasso 1961-01-01 00:00:00       0.167690\n",
       "1  Bobo_Dioulasso 1961-01-01 06:00:00       0.167649\n",
       "2  Bobo_Dioulasso 1961-01-01 12:00:00       0.167177\n",
       "3  Bobo_Dioulasso 1961-01-01 18:00:00       0.166498\n",
       "4  Bobo_Dioulasso 1961-01-02 00:00:00       0.177357"
      ]
     },
     "execution_count": 37,
     "metadata": {},
     "output_type": "execute_result"
    }
   ],
   "source": [
    "all_data.head()"
   ]
  },
  {
   "cell_type": "code",
   "execution_count": 38,
   "metadata": {},
   "outputs": [],
   "source": [
    "# Supposons que vous ayez déjà chargé vos données dans un DataFrame appelé 'df'\n",
    "# Assurez-vous que la colonne 'Date-Time' est en format de datetime\n",
    "df=all_data.copy()\n",
    "df['Date-Time'] = pd.to_datetime(df['Date-Time'])\n",
    "# Créez une colonne 'Decade' en utilisant le numéro de décade dans le mois\n",
    "decade_ranges = [0, 10, 20, 32]\n",
    "dek_num = [1, 2, 3]\n",
    "df['Day']=df['Date-Time'].dt.day\n",
    "df['Decade'] = pd.cut(df['Day'], bins=decade_ranges, labels=dek_num)\n",
    "# Créez les colonnes 'Year' et 'Month' à partir de la colonne 'Date-Time'\n",
    "df['Year'] = df['Date-Time'].dt.year\n",
    "df['Month'] = df['Date-Time'].dt.month"
   ]
  },
  {
   "cell_type": "markdown",
   "metadata": {},
   "source": [
    "##### VI-1 CALCUL DES MOYENNES DECADAIRES "
   ]
  },
  {
   "cell_type": "code",
   "execution_count": 39,
   "metadata": {},
   "outputs": [
    {
     "name": "stdout",
     "output_type": "stream",
     "text": [
      "Moyenne décadaire :\n",
      "               Station  Year  Month Decade  h_vol_sol_wat\n",
      "0      Bobo_Dioulasso  1961      1      1       0.177988\n",
      "1      Bobo_Dioulasso  1961      1      2       0.178784\n",
      "2      Bobo_Dioulasso  1961      1      3       0.178600\n",
      "3      Bobo_Dioulasso  1961      2      1       0.172708\n",
      "4      Bobo_Dioulasso  1961      2      2       0.173695\n",
      "...               ...   ...    ...    ...            ...\n",
      "21955              Po  2021     11      2       0.131637\n",
      "21956              Po  2021     11      3       0.124747\n",
      "21957              Po  2021     12      1       0.123271\n",
      "21958              Po  2021     12      2       0.120752\n",
      "21959              Po  2021     12      3       0.117617\n",
      "\n",
      "[21960 rows x 5 columns]\n"
     ]
    }
   ],
   "source": [
    "# Regroupez par année, mois et décade, puis calculez la moyenne décadaires pour 'd2m (m s**-1)'\n",
    "decade_avg_wat_sol = df.groupby(['Station','Year', 'Month', 'Decade'])['h_vol_sol_wat'].mean()\n",
    "# Réinitialisez l'index pour obtenir une DataFrame propre avec les valeurs calculées\n",
    "decade_avg_wat_sol = decade_avg_wat_sol.reset_index()\n",
    "#output_file_path = os.path.join(dir_out, str(Config.WIND_V_975_CSV))\n",
    "output_dek_path = os.path.join(dir_out, str(Config.SOL_WATERPOINT_CSV_DEK))\n",
    "decade_avg_wat_sol.to_csv(output_dek_path, index=False)\n",
    "\n",
    "# Affichez les moyennes décadaires\n",
    "print(\"Moyenne décadaire :\\n\", decade_avg_wat_sol)\n",
    "df_terre_dek.append(decade_avg_wat_sol)"
   ]
  },
  {
   "cell_type": "markdown",
   "metadata": {},
   "source": [
    "##### VI-2 CALCUL DES MOYENNES MENSUELLES"
   ]
  },
  {
   "cell_type": "code",
   "execution_count": 40,
   "metadata": {},
   "outputs": [
    {
     "name": "stdout",
     "output_type": "stream",
     "text": [
      "\n",
      "Moyenne mensuelle :\n",
      "              Station  Year  Month  h_vol_sol_wat\n",
      "0     Bobo_Dioulasso  1961      1       0.178462\n",
      "1     Bobo_Dioulasso  1961      2       0.173626\n",
      "2     Bobo_Dioulasso  1961      3       0.170209\n",
      "3     Bobo_Dioulasso  1961      4       0.204703\n",
      "4     Bobo_Dioulasso  1961      5       0.262517\n",
      "...              ...   ...    ...            ...\n",
      "7315              Po  2021      8       0.397414\n",
      "7316              Po  2021      9       0.323568\n",
      "7317              Po  2021     10       0.217716\n",
      "7318              Po  2021     11       0.134100\n",
      "7319              Po  2021     12       0.120452\n",
      "\n",
      "[7320 rows x 4 columns]\n"
     ]
    }
   ],
   "source": [
    "# Maintenant, calculez la moyenne mensuelle en utilisant le même processus\n",
    "month_avg_wat_sol = df.groupby(['Station','Year', 'Month'])['h_vol_sol_wat'].mean()\n",
    "month_avg_wat_sol = month_avg_wat_sol.reset_index()\n",
    "# Affichez les moyennes mensuelles\n",
    "print(\"\\nMoyenne mensuelle :\\n\", month_avg_wat_sol)\n",
    "output_mon_path = os.path.join(dir_out, str(Config.SOL_WATERPOINT_CSV_MON))\n",
    "month_avg_wat_sol.to_csv(output_mon_path, index=False)\n",
    "df_terre_mon.append(month_avg_wat_sol)"
   ]
  },
  {
   "cell_type": "markdown",
   "metadata": {},
   "source": [
    "### VII- PROCESSING LANGUE D'EAU FROIDE DATA"
   ]
  },
  {
   "cell_type": "code",
   "execution_count": 41,
   "metadata": {},
   "outputs": [],
   "source": [
    "input_directory =Config.SST_LEF_PATH\n",
    "output_directory =Config.SST_LEF_SP_MN_PATH"
   ]
  },
  {
   "cell_type": "markdown",
   "metadata": {},
   "source": [
    "##### Calcul de la moyenne spatiale"
   ]
  },
  {
   "cell_type": "code",
   "execution_count": 42,
   "metadata": {},
   "outputs": [
    {
     "name": "stdout",
     "output_type": "stream",
     "text": [
      "Calcul de la moyenne spatiale (fldmean) terminé.\n"
     ]
    }
   ],
   "source": [
    "# Dossier d'entrée contenant les fichiers SST\n",
    "input_directory =Config.SST_LEF_PATH\n",
    "\n",
    "# Dossier de sortie pour les fichiers résultants\n",
    "output_directory = Config.SST_LEF_SP_MN_PATH\n",
    "#os.makedirs(output_directory, exist_ok=True)\n",
    "\n",
    "if os.path.exists(output_directory):\n",
    "    # S'il existe, supprimez-le\n",
    "    shutil.rmtree(output_directory)\n",
    "# Maintenant, recréez le dossier\n",
    "os.makedirs(output_directory)\n",
    "\n",
    "\n",
    "\n",
    "# Boucle sur les fichiers dans le dossier d'entrée\n",
    "for filename in os.listdir(input_directory):\n",
    "    if filename.endswith('.nc'):\n",
    "        # Chemin complet vers le fichier d'entrée\n",
    "        input_file = os.path.join(input_directory, filename)\n",
    "        \n",
    "        # Déterminez le nom du fichier de sortie en ajoutant \"_fldmean\" au nom d'origine\n",
    "        output_filename = os.path.splitext(filename)[0] + '_fldmean.nc'\n",
    "        output_file = os.path.join(output_directory, output_filename)\n",
    "        \n",
    "        # Exécutez la commande CDO pour calculer la moyenne spatiale (fldmean)\n",
    "        cdo_command = f\"cdo fldmean {input_file} {output_file}\"\n",
    "        \n",
    "        # Exécutez la commande en utilisant subprocess\n",
    "        subprocess.run(cdo_command, shell=True)\n",
    "\n",
    "print(\"Calcul de la moyenne spatiale (fldmean) terminé.\")"
   ]
  },
  {
   "cell_type": "markdown",
   "metadata": {},
   "source": [
    "##### Concatenation des fichiers après moyenne spatiale"
   ]
  },
  {
   "cell_type": "code",
   "execution_count": 43,
   "metadata": {},
   "outputs": [
    {
     "name": "stdout",
     "output_type": "stream",
     "text": [
      "Concaténation terminée. Le fichier concaténé est enregistré sous ../ASSETS/DATA/RAW/ERA5/SST_LEF_FLDMEAN/sst_leg_merged.nc\n"
     ]
    }
   ],
   "source": [
    "# Nom du fichier de sortie concaténé\n",
    "output_merged_file = os.path.join(output_directory, Config.SST_LEF_MERGE)\n",
    "\n",
    "# Liste de fichiers de sortie à concaténer\n",
    "output_files_to_concatenate = [os.path.join(output_directory, filename) for filename in os.listdir(output_directory) if filename.endswith('_fldmean.nc')]\n",
    "\n",
    "# Vérifiez s'il y a au moins un fichier à concaténer\n",
    "if len(output_files_to_concatenate) > 0:\n",
    "    # Utilisez CDO pour concaténer les fichiers\n",
    "    cdo_command = f\"cdo mergetime {' '.join(output_files_to_concatenate)} {output_merged_file}\"\n",
    "    subprocess.run(cdo_command, shell=True)\n",
    "    print(f\"Concaténation terminée. Le fichier concaténé est enregistré sous {output_merged_file}\")\n",
    "else:\n",
    "    print(\"Aucun fichier de sortie à concaténer trouvé dans le répertoire de sortie.\")"
   ]
  },
  {
   "cell_type": "markdown",
   "metadata": {},
   "source": [
    "##### Transformation du fichier netcdf en dataframe"
   ]
  },
  {
   "cell_type": "code",
   "execution_count": 44,
   "metadata": {},
   "outputs": [],
   "source": [
    "# Ouvrir le fichier NetCDF\n",
    "data = netCDF4.Dataset(output_merged_file)\n",
    "# Extraire les variables time et sst\n",
    "time_values = data.variables['time'][:]\n",
    "sst_values = data.variables['sst'][:]\n",
    "\n",
    "# Redimensionner les tableaux pour les rendre 1D\n",
    "time_values = time_values.flatten()\n",
    "sst_values = sst_values.flatten()\n",
    "# Extraire les attributs de la variable \"time\"\n",
    "time_var = data.variables['time']\n",
    "units = time_var.units  # Obtenez l'unité de temps\n",
    "# Fermer le fichier NetCDF\n",
    "data.close()\n",
    "\n",
    "# Convertir les valeurs de \"time\" en dates en utilisant cftime\n",
    "dates = cftime.num2date(time_values, units, calendar='standard')\n",
    "\n",
    "# Créer un DataFrame Pandas avec les dates converties\n",
    "df_merged_sst_lef = pd.DataFrame({'date': dates, 'sst': sst_values})"
   ]
  },
  {
   "cell_type": "code",
   "execution_count": 45,
   "metadata": {},
   "outputs": [],
   "source": [
    "# Utilisez apply pour convertir chaque valeur en datetime\n",
    "df_merged_sst_lef['date'] = df_merged_sst_lef['date'].apply(lambda x: x.strftime('%Y-%m-%d %H:%M:%S') if isinstance(x, cftime._cftime.DatetimeGregorian) else x)\n",
    "df_merged_sst_lef['date'] = pd.to_datetime(df_merged_sst_lef['date'])"
   ]
  },
  {
   "cell_type": "code",
   "execution_count": 46,
   "metadata": {},
   "outputs": [],
   "source": [
    "df_merged_sst_lef['Year'] = df_merged_sst_lef['date'].dt.year\n",
    "# Créez la colonne 'Mois' en extrayant le mois\n",
    "df_merged_sst_lef['Month'] = df_merged_sst_lef['date'].dt.month\n",
    "# Créez la colonne 'Jour' en extrayant le jour\n",
    "df_merged_sst_lef['Day'] = df_merged_sst_lef['date'].dt.day\n",
    "df_merged_sst_lef['Decade']=pd.cut(df_merged_sst_lef['Day'],bins=[0,10,20,32], labels=[1,2,3])"
   ]
  },
  {
   "cell_type": "markdown",
   "metadata": {},
   "source": [
    "#### VII.1 - CALCUL DECADAIRE"
   ]
  },
  {
   "cell_type": "code",
   "execution_count": 47,
   "metadata": {},
   "outputs": [
    {
     "data": {
      "text/html": [
       "<div>\n",
       "<style scoped>\n",
       "    .dataframe tbody tr th:only-of-type {\n",
       "        vertical-align: middle;\n",
       "    }\n",
       "\n",
       "    .dataframe tbody tr th {\n",
       "        vertical-align: top;\n",
       "    }\n",
       "\n",
       "    .dataframe thead th {\n",
       "        text-align: right;\n",
       "    }\n",
       "</style>\n",
       "<table border=\"1\" class=\"dataframe\">\n",
       "  <thead>\n",
       "    <tr style=\"text-align: right;\">\n",
       "      <th></th>\n",
       "      <th>date</th>\n",
       "      <th>sst</th>\n",
       "      <th>Year</th>\n",
       "      <th>Month</th>\n",
       "      <th>Day</th>\n",
       "      <th>Decade</th>\n",
       "      <th>Moy_lef_Dec</th>\n",
       "    </tr>\n",
       "  </thead>\n",
       "  <tbody>\n",
       "    <tr>\n",
       "      <th>0</th>\n",
       "      <td>1961-01-01</td>\n",
       "      <td>300.468903</td>\n",
       "      <td>1961</td>\n",
       "      <td>1</td>\n",
       "      <td>1</td>\n",
       "      <td>1</td>\n",
       "      <td>300.383972</td>\n",
       "    </tr>\n",
       "    <tr>\n",
       "      <th>80</th>\n",
       "      <td>1961-01-11</td>\n",
       "      <td>300.123718</td>\n",
       "      <td>1961</td>\n",
       "      <td>1</td>\n",
       "      <td>11</td>\n",
       "      <td>2</td>\n",
       "      <td>300.250214</td>\n",
       "    </tr>\n",
       "    <tr>\n",
       "      <th>160</th>\n",
       "      <td>1961-01-21</td>\n",
       "      <td>300.506195</td>\n",
       "      <td>1961</td>\n",
       "      <td>1</td>\n",
       "      <td>21</td>\n",
       "      <td>3</td>\n",
       "      <td>300.686920</td>\n",
       "    </tr>\n",
       "    <tr>\n",
       "      <th>248</th>\n",
       "      <td>1961-02-01</td>\n",
       "      <td>300.969025</td>\n",
       "      <td>1961</td>\n",
       "      <td>2</td>\n",
       "      <td>1</td>\n",
       "      <td>1</td>\n",
       "      <td>300.884918</td>\n",
       "    </tr>\n",
       "    <tr>\n",
       "      <th>328</th>\n",
       "      <td>1961-02-11</td>\n",
       "      <td>300.888519</td>\n",
       "      <td>1961</td>\n",
       "      <td>2</td>\n",
       "      <td>11</td>\n",
       "      <td>2</td>\n",
       "      <td>301.116699</td>\n",
       "    </tr>\n",
       "  </tbody>\n",
       "</table>\n",
       "</div>"
      ],
      "text/plain": [
       "          date         sst  Year  Month  Day Decade  Moy_lef_Dec\n",
       "0   1961-01-01  300.468903  1961      1    1      1   300.383972\n",
       "80  1961-01-11  300.123718  1961      1   11      2   300.250214\n",
       "160 1961-01-21  300.506195  1961      1   21      3   300.686920\n",
       "248 1961-02-01  300.969025  1961      2    1      1   300.884918\n",
       "328 1961-02-11  300.888519  1961      2   11      2   301.116699"
      ]
     },
     "execution_count": 47,
     "metadata": {},
     "output_type": "execute_result"
    }
   ],
   "source": [
    "df_sst_lef_dek=df_merged_sst_lef.copy()\n",
    "# Utilisez la méthode groupby pour regrouper les données par 'Annee', 'Mois' et 'Decade' et calculez la moyenne de 'sst' pour chaque groupe\n",
    "df_sst_lef_dek['Moy_lef_Dec'] = df_sst_lef_dek.groupby(['Year', 'Month', 'Decade'])['sst'].transform('mean')\n",
    "# Si vous souhaitez supprimer les lignes en double après avoir ajouté la colonne 'Moy_Dec', vous pouvez le faire en utilisant la méthode drop_duplicates\n",
    "df_sst_lef_dek.drop_duplicates(subset=['Year', 'Month', 'Decade', 'Moy_lef_Dec'], inplace=True)\n",
    "# Affichez le DataFrame résultant\n",
    "df_sst_lef_dek.head()"
   ]
  },
  {
   "cell_type": "markdown",
   "metadata": {},
   "source": [
    "##### Calcul anomalies"
   ]
  },
  {
   "cell_type": "code",
   "execution_count": 48,
   "metadata": {},
   "outputs": [
    {
     "name": "stdout",
     "output_type": "stream",
     "text": [
      "Moyenne pour la période 1961-1990 : 300.0179\n"
     ]
    }
   ],
   "source": [
    "# Filtrer le DataFrame pour les années 1961-1990\n",
    "ref_start=1961\n",
    "ref_end=1991\n",
    "normal_period = df_sst_lef_dek[(df_sst_lef_dek['Year'] >= ref_start) & (df_sst_lef_dek['Year'] <= ref_end)]\n",
    "# Calculer la moyenne de la colonne 'sst' pour cette période\n",
    "sst_mean = normal_period['sst'].mean()\n",
    "# Afficher la moyenne\n",
    "print(\"Moyenne pour la période 1961-1990 :\", sst_mean)\n",
    "df_sst_lef_dek['anom_lef_dek']=df_sst_lef_dek['Moy_lef_Dec']-sst_mean\n",
    "df_sst_lef_dek=df_sst_lef_dek[['Year','Month','Decade','anom_lef_dek']]\n",
    "df_mer_dek.append(df_sst_lef_dek)"
   ]
  },
  {
   "cell_type": "code",
   "execution_count": 49,
   "metadata": {},
   "outputs": [
    {
     "data": {
      "text/html": [
       "<div>\n",
       "<style scoped>\n",
       "    .dataframe tbody tr th:only-of-type {\n",
       "        vertical-align: middle;\n",
       "    }\n",
       "\n",
       "    .dataframe tbody tr th {\n",
       "        vertical-align: top;\n",
       "    }\n",
       "\n",
       "    .dataframe thead th {\n",
       "        text-align: right;\n",
       "    }\n",
       "</style>\n",
       "<table border=\"1\" class=\"dataframe\">\n",
       "  <thead>\n",
       "    <tr style=\"text-align: right;\">\n",
       "      <th></th>\n",
       "      <th>Year</th>\n",
       "      <th>Month</th>\n",
       "      <th>Decade</th>\n",
       "      <th>anom_lef_dek</th>\n",
       "    </tr>\n",
       "  </thead>\n",
       "  <tbody>\n",
       "    <tr>\n",
       "      <th>0</th>\n",
       "      <td>1961</td>\n",
       "      <td>1</td>\n",
       "      <td>1</td>\n",
       "      <td>0.366058</td>\n",
       "    </tr>\n",
       "    <tr>\n",
       "      <th>80</th>\n",
       "      <td>1961</td>\n",
       "      <td>1</td>\n",
       "      <td>2</td>\n",
       "      <td>0.232300</td>\n",
       "    </tr>\n",
       "    <tr>\n",
       "      <th>160</th>\n",
       "      <td>1961</td>\n",
       "      <td>1</td>\n",
       "      <td>3</td>\n",
       "      <td>0.669006</td>\n",
       "    </tr>\n",
       "    <tr>\n",
       "      <th>248</th>\n",
       "      <td>1961</td>\n",
       "      <td>2</td>\n",
       "      <td>1</td>\n",
       "      <td>0.867004</td>\n",
       "    </tr>\n",
       "    <tr>\n",
       "      <th>328</th>\n",
       "      <td>1961</td>\n",
       "      <td>2</td>\n",
       "      <td>2</td>\n",
       "      <td>1.098785</td>\n",
       "    </tr>\n",
       "  </tbody>\n",
       "</table>\n",
       "</div>"
      ],
      "text/plain": [
       "     Year  Month Decade  anom_lef_dek\n",
       "0    1961      1      1      0.366058\n",
       "80   1961      1      2      0.232300\n",
       "160  1961      1      3      0.669006\n",
       "248  1961      2      1      0.867004\n",
       "328  1961      2      2      1.098785"
      ]
     },
     "execution_count": 49,
     "metadata": {},
     "output_type": "execute_result"
    }
   ],
   "source": [
    "df_sst_lef_dek.head()"
   ]
  },
  {
   "cell_type": "markdown",
   "metadata": {},
   "source": [
    "#### I.2 - CALCUL MENSUEL"
   ]
  },
  {
   "cell_type": "code",
   "execution_count": 50,
   "metadata": {},
   "outputs": [
    {
     "data": {
      "text/html": [
       "<div>\n",
       "<style scoped>\n",
       "    .dataframe tbody tr th:only-of-type {\n",
       "        vertical-align: middle;\n",
       "    }\n",
       "\n",
       "    .dataframe tbody tr th {\n",
       "        vertical-align: top;\n",
       "    }\n",
       "\n",
       "    .dataframe thead th {\n",
       "        text-align: right;\n",
       "    }\n",
       "</style>\n",
       "<table border=\"1\" class=\"dataframe\">\n",
       "  <thead>\n",
       "    <tr style=\"text-align: right;\">\n",
       "      <th></th>\n",
       "      <th>date</th>\n",
       "      <th>sst</th>\n",
       "      <th>Year</th>\n",
       "      <th>Month</th>\n",
       "      <th>Day</th>\n",
       "      <th>Decade</th>\n",
       "      <th>Moy_lef_Mois</th>\n",
       "    </tr>\n",
       "  </thead>\n",
       "  <tbody>\n",
       "    <tr>\n",
       "      <th>0</th>\n",
       "      <td>1961-01-01</td>\n",
       "      <td>300.468903</td>\n",
       "      <td>1961</td>\n",
       "      <td>1</td>\n",
       "      <td>1</td>\n",
       "      <td>1</td>\n",
       "      <td>300.448334</td>\n",
       "    </tr>\n",
       "    <tr>\n",
       "      <th>248</th>\n",
       "      <td>1961-02-01</td>\n",
       "      <td>300.969025</td>\n",
       "      <td>1961</td>\n",
       "      <td>2</td>\n",
       "      <td>1</td>\n",
       "      <td>1</td>\n",
       "      <td>301.100372</td>\n",
       "    </tr>\n",
       "    <tr>\n",
       "      <th>472</th>\n",
       "      <td>1961-03-01</td>\n",
       "      <td>301.283325</td>\n",
       "      <td>1961</td>\n",
       "      <td>3</td>\n",
       "      <td>1</td>\n",
       "      <td>1</td>\n",
       "      <td>301.556671</td>\n",
       "    </tr>\n",
       "    <tr>\n",
       "      <th>720</th>\n",
       "      <td>1961-04-01</td>\n",
       "      <td>301.666687</td>\n",
       "      <td>1961</td>\n",
       "      <td>4</td>\n",
       "      <td>1</td>\n",
       "      <td>1</td>\n",
       "      <td>301.702454</td>\n",
       "    </tr>\n",
       "    <tr>\n",
       "      <th>960</th>\n",
       "      <td>1961-05-01</td>\n",
       "      <td>301.620117</td>\n",
       "      <td>1961</td>\n",
       "      <td>5</td>\n",
       "      <td>1</td>\n",
       "      <td>1</td>\n",
       "      <td>301.258148</td>\n",
       "    </tr>\n",
       "  </tbody>\n",
       "</table>\n",
       "</div>"
      ],
      "text/plain": [
       "          date         sst  Year  Month  Day Decade  Moy_lef_Mois\n",
       "0   1961-01-01  300.468903  1961      1    1      1    300.448334\n",
       "248 1961-02-01  300.969025  1961      2    1      1    301.100372\n",
       "472 1961-03-01  301.283325  1961      3    1      1    301.556671\n",
       "720 1961-04-01  301.666687  1961      4    1      1    301.702454\n",
       "960 1961-05-01  301.620117  1961      5    1      1    301.258148"
      ]
     },
     "execution_count": 50,
     "metadata": {},
     "output_type": "execute_result"
    }
   ],
   "source": [
    "df_sst_lef_mois=df_merged_sst_lef.copy()\n",
    "# Utilisez la méthode groupby pour regrouper les données par 'Annee', 'Mois' et 'Decade' et calculez la moyenne de 'sst' pour chaque groupe\n",
    "df_sst_lef_mois['Moy_lef_Mois'] = df_sst_lef_mois.groupby(['Year', 'Month'])['sst'].transform('mean')\n",
    "# Si vous souhaitez supprimer les lignes en double après avoir ajouté la colonne 'Moy_Dec', vous pouvez le faire en utilisant la méthode drop_duplicates\n",
    "df_sst_lef_mois.drop_duplicates(subset=['Year', 'Month', 'Moy_lef_Mois'], inplace=True)\n",
    "# Affichez le DataFrame résultant\n",
    "df_sst_lef_mois.head()"
   ]
  },
  {
   "cell_type": "markdown",
   "metadata": {},
   "source": [
    "##### Calcul anomalies mensuelles"
   ]
  },
  {
   "cell_type": "code",
   "execution_count": 51,
   "metadata": {},
   "outputs": [
    {
     "name": "stdout",
     "output_type": "stream",
     "text": [
      "Moyenne pour la période 1961-1990 : 300.01572\n"
     ]
    }
   ],
   "source": [
    "# Filtrer le DataFrame pour les années 1961-1990\n",
    "ref_start=1961\n",
    "ref_end=1991\n",
    "normal_period = df_sst_lef_mois[(df_sst_lef_mois['Year'] >= ref_start) & (df_sst_lef_mois['Year'] <= ref_end)]\n",
    "# Calculer la moyenne de la colonne 'sst' pour cette période\n",
    "sst_mean = normal_period['sst'].mean()\n",
    "# Afficher la moyenne\n",
    "print(\"Moyenne pour la période 1961-1990 :\", sst_mean)\n",
    "df_sst_lef_mois['anom_lef_mois']=df_sst_lef_mois['Moy_lef_Mois']-sst_mean\n",
    "df_sst_lef_mois=df_sst_lef_mois[['Year','Month','anom_lef_mois']]\n",
    "\n",
    "df_mer_mon.append(df_sst_lef_mois)"
   ]
  },
  {
   "cell_type": "code",
   "execution_count": 52,
   "metadata": {},
   "outputs": [
    {
     "data": {
      "text/html": [
       "<div>\n",
       "<style scoped>\n",
       "    .dataframe tbody tr th:only-of-type {\n",
       "        vertical-align: middle;\n",
       "    }\n",
       "\n",
       "    .dataframe tbody tr th {\n",
       "        vertical-align: top;\n",
       "    }\n",
       "\n",
       "    .dataframe thead th {\n",
       "        text-align: right;\n",
       "    }\n",
       "</style>\n",
       "<table border=\"1\" class=\"dataframe\">\n",
       "  <thead>\n",
       "    <tr style=\"text-align: right;\">\n",
       "      <th></th>\n",
       "      <th>Year</th>\n",
       "      <th>Month</th>\n",
       "      <th>anom_lef_mois</th>\n",
       "    </tr>\n",
       "  </thead>\n",
       "  <tbody>\n",
       "    <tr>\n",
       "      <th>0</th>\n",
       "      <td>1961</td>\n",
       "      <td>1</td>\n",
       "      <td>0.432617</td>\n",
       "    </tr>\n",
       "    <tr>\n",
       "      <th>248</th>\n",
       "      <td>1961</td>\n",
       "      <td>2</td>\n",
       "      <td>1.084656</td>\n",
       "    </tr>\n",
       "    <tr>\n",
       "      <th>472</th>\n",
       "      <td>1961</td>\n",
       "      <td>3</td>\n",
       "      <td>1.540955</td>\n",
       "    </tr>\n",
       "    <tr>\n",
       "      <th>720</th>\n",
       "      <td>1961</td>\n",
       "      <td>4</td>\n",
       "      <td>1.686737</td>\n",
       "    </tr>\n",
       "    <tr>\n",
       "      <th>960</th>\n",
       "      <td>1961</td>\n",
       "      <td>5</td>\n",
       "      <td>1.242432</td>\n",
       "    </tr>\n",
       "  </tbody>\n",
       "</table>\n",
       "</div>"
      ],
      "text/plain": [
       "     Year  Month  anom_lef_mois\n",
       "0    1961      1       0.432617\n",
       "248  1961      2       1.084656\n",
       "472  1961      3       1.540955\n",
       "720  1961      4       1.686737\n",
       "960  1961      5       1.242432"
      ]
     },
     "execution_count": 52,
     "metadata": {},
     "output_type": "execute_result"
    }
   ],
   "source": [
    "df_sst_lef_mois.head()"
   ]
  },
  {
   "cell_type": "markdown",
   "metadata": {},
   "source": [
    "### VIII- PROCESSING NINO 3.4 DATA"
   ]
  },
  {
   "cell_type": "markdown",
   "metadata": {},
   "source": [
    "##### Calcul de la moyenne spatiale"
   ]
  },
  {
   "cell_type": "code",
   "execution_count": 53,
   "metadata": {},
   "outputs": [
    {
     "name": "stdout",
     "output_type": "stream",
     "text": [
      "Calcul de la moyenne spatiale (fldmean) terminé.\n"
     ]
    }
   ],
   "source": [
    "# Dossier d'entrée contenant les fichiers SST\n",
    "input_directory =Config.SST_NINO_PATH\n",
    "\n",
    "# Dossier de sortie pour les fichiers résultants\n",
    "output_directory = Config.SST_NINO_SP_MN_PATH\n",
    "#os.makedirs(output_directory, exist_ok=True)\n",
    "if os.path.exists(output_directory):\n",
    "    # S'il existe, supprimez-le\n",
    "    shutil.rmtree(output_directory)\n",
    "# Maintenant, recréez le dossier\n",
    "os.makedirs(output_directory)\n",
    "\n",
    "# Boucle sur les fichiers dans le dossier d'entrée\n",
    "for filename in os.listdir(input_directory):\n",
    "    if filename.endswith('.nc'):\n",
    "        # Chemin complet vers le fichier d'entrée\n",
    "        input_file = os.path.join(input_directory, filename)\n",
    "        \n",
    "        # Déterminez le nom du fichier de sortie en ajoutant \"_fldmean\" au nom d'origine\n",
    "        output_filename = os.path.splitext(filename)[0] + '_fldmean.nc'\n",
    "        output_file = os.path.join(output_directory, output_filename)\n",
    "        \n",
    "        # Exécutez la commande CDO pour calculer la moyenne spatiale (fldmean)\n",
    "        cdo_command = f\"cdo fldmean {input_file} {output_file}\"\n",
    "        \n",
    "        # Exécutez la commande en utilisant subprocess\n",
    "        subprocess.run(cdo_command, shell=True)\n",
    "\n",
    "print(\"Calcul de la moyenne spatiale (fldmean) terminé.\")"
   ]
  },
  {
   "cell_type": "markdown",
   "metadata": {},
   "source": [
    "##### Concatenation des fichiers après moyenne spatiale"
   ]
  },
  {
   "cell_type": "code",
   "execution_count": 54,
   "metadata": {},
   "outputs": [
    {
     "name": "stdout",
     "output_type": "stream",
     "text": [
      "Concaténation terminée. Le fichier concaténé est enregistré sous ../ASSETS/DATA/RAW/ERA5/SST_NINO_FLDMEAN/sst_nino_merged.nc\n"
     ]
    }
   ],
   "source": [
    "# Nom du fichier de sortie concaténé\n",
    "output_merged_file = os.path.join(output_directory, Config.SST_NINO_MERGE)\n",
    "\n",
    "# Liste de fichiers de sortie à concaténer\n",
    "output_files_to_concatenate = [os.path.join(output_directory, filename) for filename in os.listdir(output_directory) if filename.endswith('_fldmean.nc')]\n",
    "\n",
    "# Vérifiez s'il y a au moins un fichier à concaténer\n",
    "if len(output_files_to_concatenate) > 0:\n",
    "    # Utilisez CDO pour concaténer les fichiers\n",
    "    cdo_command = f\"cdo mergetime {' '.join(output_files_to_concatenate)} {output_merged_file}\"\n",
    "    subprocess.run(cdo_command, shell=True)\n",
    "    print(f\"Concaténation terminée. Le fichier concaténé est enregistré sous {output_merged_file}\")\n",
    "else:\n",
    "    print(\"Aucun fichier de sortie à concaténer trouvé dans le répertoire de sortie.\")"
   ]
  },
  {
   "cell_type": "markdown",
   "metadata": {},
   "source": [
    "##### Transformation du fichier netcdf en dataframe"
   ]
  },
  {
   "cell_type": "code",
   "execution_count": 55,
   "metadata": {},
   "outputs": [],
   "source": [
    "# Ouvrir le fichier NetCDF\n",
    "data = netCDF4.Dataset(output_merged_file)\n",
    "# Extraire les variables time et sst\n",
    "time_values = data.variables['time'][:]\n",
    "sst_values = data.variables['sst'][:]\n",
    "\n",
    "# Redimensionner les tableaux pour les rendre 1D\n",
    "time_values = time_values.flatten()\n",
    "sst_values = sst_values.flatten()\n",
    "# Extraire les attributs de la variable \"time\"\n",
    "time_var = data.variables['time']\n",
    "units = time_var.units  # Obtenez l'unité de temps\n",
    "# Fermer le fichier NetCDF\n",
    "data.close()\n",
    "\n",
    "# Convertir les valeurs de \"time\" en dates en utilisant cftime\n",
    "dates = cftime.num2date(time_values, units, calendar='standard')\n",
    "\n",
    "# Créer un DataFrame Pandas avec les dates converties\n",
    "df_merged_sst_nino = pd.DataFrame({'date': dates, 'sst': sst_values})"
   ]
  },
  {
   "cell_type": "code",
   "execution_count": 56,
   "metadata": {},
   "outputs": [],
   "source": [
    "# Utilisez apply pour convertir chaque valeur en datetime\n",
    "df_merged_sst_nino['date'] = df_merged_sst_nino['date'].apply(lambda x: x.strftime('%Y-%m-%d %H:%M:%S') if isinstance(x, cftime._cftime.DatetimeGregorian) else x)\n",
    "df_merged_sst_nino['date'] = pd.to_datetime(df_merged_sst_nino['date'])"
   ]
  },
  {
   "cell_type": "code",
   "execution_count": 57,
   "metadata": {},
   "outputs": [],
   "source": [
    "df_merged_sst_nino['Year'] = df_merged_sst_nino['date'].dt.year\n",
    "# Créez la colonne 'Mois' en extrayant le mois\n",
    "df_merged_sst_nino['Month'] = df_merged_sst_nino['date'].dt.month\n",
    "# Créez la colonne 'Jour' en extrayant le jour\n",
    "df_merged_sst_nino['Day'] = df_merged_sst_nino['date'].dt.day\n",
    "df_merged_sst_nino['Decade']=pd.cut(df_merged_sst_nino['Day'],bins=[0,10,20,32], labels=[1,2,3])"
   ]
  },
  {
   "cell_type": "markdown",
   "metadata": {},
   "source": [
    "#### VIII.1 - CALCUL DECADAIRE"
   ]
  },
  {
   "cell_type": "code",
   "execution_count": 58,
   "metadata": {},
   "outputs": [],
   "source": [
    "df_sst_nino_dek=df_merged_sst_nino.copy()\n",
    "# Utilisez la méthode groupby pour regrouper les données par 'Annee', 'Mois' et 'Decade' et calculez la moyenne de 'sst' pour chaque groupe\n",
    "df_sst_nino_dek['Moy_nino_Dec'] = df_sst_nino_dek.groupby(['Year', 'Month','Decade'])['sst'].transform('mean')\n",
    "# Si vous souhaitez supprimer les lignes en double après avoir ajouté la colonne 'Moy_Dec', vous pouvez le faire en utilisant la méthode drop_duplicates\n",
    "df_sst_nino_dek.drop_duplicates(subset=['Year', 'Month','Decade','Moy_nino_Dec'], inplace=True, keep='last')\n",
    "# Affichez le DataFrame résultant\n",
    "#df_sst_nino_dek.head()"
   ]
  },
  {
   "cell_type": "markdown",
   "metadata": {},
   "source": [
    "##### Calcul anomalies decadaires"
   ]
  },
  {
   "cell_type": "code",
   "execution_count": 59,
   "metadata": {},
   "outputs": [
    {
     "name": "stdout",
     "output_type": "stream",
     "text": [
      "Moyenne pour la période 1961-1990 : 300.7522\n"
     ]
    }
   ],
   "source": [
    "# Filtrer le DataFrame pour les années 1961-1990\n",
    "ref_start=1961\n",
    "ref_end=1991\n",
    "normal_period = df_sst_nino_dek[(df_sst_nino_dek['Year'] >= ref_start) & (df_sst_nino_dek['Year'] <= ref_end)]\n",
    "# Calculer la moyenne de la colonne 'sst' pour cette période\n",
    "sst_mean = normal_period['sst'].mean()\n",
    "# Afficher la moyenne\n",
    "print(\"Moyenne pour la période 1961-1990 :\", sst_mean)\n",
    "df_sst_nino_dek['anom_nino_dek']=df_sst_nino_dek['Moy_nino_Dec']-sst_mean\n",
    "df_sst_nino_dek=df_sst_nino_dek[['Year','Month','Decade','anom_nino_dek']]\n",
    "df_mer_dek.append(df_sst_nino_dek)"
   ]
  },
  {
   "cell_type": "markdown",
   "metadata": {},
   "source": [
    "#### VIII.2 - CALCUL MENSUEL"
   ]
  },
  {
   "cell_type": "code",
   "execution_count": 60,
   "metadata": {},
   "outputs": [
    {
     "data": {
      "text/html": [
       "<div>\n",
       "<style scoped>\n",
       "    .dataframe tbody tr th:only-of-type {\n",
       "        vertical-align: middle;\n",
       "    }\n",
       "\n",
       "    .dataframe tbody tr th {\n",
       "        vertical-align: top;\n",
       "    }\n",
       "\n",
       "    .dataframe thead th {\n",
       "        text-align: right;\n",
       "    }\n",
       "</style>\n",
       "<table border=\"1\" class=\"dataframe\">\n",
       "  <thead>\n",
       "    <tr style=\"text-align: right;\">\n",
       "      <th></th>\n",
       "      <th>date</th>\n",
       "      <th>sst</th>\n",
       "      <th>Year</th>\n",
       "      <th>Month</th>\n",
       "      <th>Day</th>\n",
       "      <th>Decade</th>\n",
       "      <th>Moy_nino_Mois</th>\n",
       "    </tr>\n",
       "  </thead>\n",
       "  <tbody>\n",
       "    <tr>\n",
       "      <th>247</th>\n",
       "      <td>1961-01-31 21:00:00</td>\n",
       "      <td>301.076355</td>\n",
       "      <td>1961</td>\n",
       "      <td>1</td>\n",
       "      <td>31</td>\n",
       "      <td>3</td>\n",
       "      <td>300.850891</td>\n",
       "    </tr>\n",
       "    <tr>\n",
       "      <th>471</th>\n",
       "      <td>1961-02-28 21:00:00</td>\n",
       "      <td>301.244873</td>\n",
       "      <td>1961</td>\n",
       "      <td>2</td>\n",
       "      <td>28</td>\n",
       "      <td>3</td>\n",
       "      <td>301.184143</td>\n",
       "    </tr>\n",
       "    <tr>\n",
       "      <th>719</th>\n",
       "      <td>1961-03-31 21:00:00</td>\n",
       "      <td>301.603821</td>\n",
       "      <td>1961</td>\n",
       "      <td>3</td>\n",
       "      <td>31</td>\n",
       "      <td>3</td>\n",
       "      <td>301.383850</td>\n",
       "    </tr>\n",
       "    <tr>\n",
       "      <th>959</th>\n",
       "      <td>1961-04-30 21:00:00</td>\n",
       "      <td>301.675903</td>\n",
       "      <td>1961</td>\n",
       "      <td>4</td>\n",
       "      <td>30</td>\n",
       "      <td>3</td>\n",
       "      <td>301.779083</td>\n",
       "    </tr>\n",
       "    <tr>\n",
       "      <th>1207</th>\n",
       "      <td>1961-05-31 21:00:00</td>\n",
       "      <td>301.377045</td>\n",
       "      <td>1961</td>\n",
       "      <td>5</td>\n",
       "      <td>31</td>\n",
       "      <td>3</td>\n",
       "      <td>301.479736</td>\n",
       "    </tr>\n",
       "  </tbody>\n",
       "</table>\n",
       "</div>"
      ],
      "text/plain": [
       "                    date         sst  Year  Month  Day Decade  Moy_nino_Mois\n",
       "247  1961-01-31 21:00:00  301.076355  1961      1   31      3     300.850891\n",
       "471  1961-02-28 21:00:00  301.244873  1961      2   28      3     301.184143\n",
       "719  1961-03-31 21:00:00  301.603821  1961      3   31      3     301.383850\n",
       "959  1961-04-30 21:00:00  301.675903  1961      4   30      3     301.779083\n",
       "1207 1961-05-31 21:00:00  301.377045  1961      5   31      3     301.479736"
      ]
     },
     "execution_count": 60,
     "metadata": {},
     "output_type": "execute_result"
    }
   ],
   "source": [
    "df_sst_nino_mois=df_merged_sst_nino.copy()\n",
    "# Utilisez la méthode groupby pour regrouper les données par 'Annee', 'Mois' et 'Decade' et calculez la moyenne de 'sst' pour chaque groupe\n",
    "df_sst_nino_mois['Moy_nino_Mois'] = df_sst_nino_mois.groupby(['Year', 'Month'])['sst'].transform('mean')\n",
    "# Si vous souhaitez supprimer les lignes en double après avoir ajouté la colonne 'Moy_Dec', vous pouvez le faire en utilisant la méthode drop_duplicates\n",
    "df_sst_nino_mois.drop_duplicates(subset=['Year', 'Month','Moy_nino_Mois'], inplace=True, keep='last')\n",
    "# Affichez le DataFrame résultant\n",
    "df_sst_nino_mois.head()"
   ]
  },
  {
   "cell_type": "code",
   "execution_count": 61,
   "metadata": {},
   "outputs": [
    {
     "name": "stdout",
     "output_type": "stream",
     "text": [
      "Moyenne pour la période 1961-1990 : 300.75037\n"
     ]
    }
   ],
   "source": [
    "# Filtrer le DataFrame pour les années 1961-1990\n",
    "ref_start=1961\n",
    "ref_end=1991\n",
    "normal_period = df_sst_nino_mois[(df_sst_nino_mois['Year'] >= ref_start) & (df_sst_nino_mois['Year'] <= ref_end)]\n",
    "# Calculer la moyenne de la colonne 'sst' pour cette période\n",
    "sst_mean = normal_period['sst'].mean()\n",
    "# Afficher la moyenne\n",
    "print(\"Moyenne pour la période 1961-1990 :\", sst_mean)\n",
    "df_sst_nino_mois['anom_nino_mois']=df_sst_nino_mois['Moy_nino_Mois']-sst_mean\n",
    "df_sst_nino_mois=df_sst_nino_mois[['Year','Month','anom_nino_mois']]\n",
    "df_mer_mon.append(df_sst_nino_mois)"
   ]
  },
  {
   "cell_type": "markdown",
   "metadata": {},
   "source": [
    "### IX- Récapitulation et sauvegarde des dataframes"
   ]
  },
  {
   "cell_type": "markdown",
   "metadata": {},
   "source": [
    "##### Fusion des dataframes des paramètres locaux (mesurés sur le Burkina)"
   ]
  },
  {
   "cell_type": "markdown",
   "metadata": {},
   "source": [
    "##### Decadaires"
   ]
  },
  {
   "cell_type": "code",
   "execution_count": 62,
   "metadata": {},
   "outputs": [
    {
     "name": "stdout",
     "output_type": "stream",
     "text": [
      "              Station  Year  Month Decade  v_wind_975  u_wind_700  u_wind_100  \\\n",
      "0      Bobo_Dioulasso  1961      1      1   -2.477929   -6.607575   16.585018   \n",
      "1      Bobo_Dioulasso  1961      1      2   -2.545220   -1.387879   18.501326   \n",
      "2      Bobo_Dioulasso  1961      1      3   -2.898044    2.169399   17.749175   \n",
      "3      Bobo_Dioulasso  1961      2      1   -2.424871    3.171007    9.010893   \n",
      "4      Bobo_Dioulasso  1961      2      2   -2.312341    3.065763   11.091734   \n",
      "...               ...   ...    ...    ...         ...         ...         ...   \n",
      "21955              Po  2021     11      2   -0.261836   -5.803122    7.834724   \n",
      "21956              Po  2021     11      3   -0.620669   -8.759756    5.852299   \n",
      "21957              Po  2021     12      1   -1.527897   -4.211920   11.448239   \n",
      "21958              Po  2021     12      2   -2.103897   -5.516121   18.516873   \n",
      "21959              Po  2021     12      3   -3.658856   -1.577647   17.013145   \n",
      "\n",
      "       eau_precipitable  t_point_rosee  h_vol_sol_wat  \n",
      "0          7.668101e-08     274.869892       0.177988  \n",
      "1         -2.891759e-08     274.777057       0.178784  \n",
      "2         -8.290206e-07     274.205329       0.178600  \n",
      "3         -4.955488e-08     270.083815       0.172708  \n",
      "4         -1.390865e-08     269.565937       0.173695  \n",
      "...                 ...            ...            ...  \n",
      "21955     -2.084888e-07     289.186040       0.131637  \n",
      "21956     -7.689258e-08     285.818809       0.124747  \n",
      "21957      4.907528e-08     282.116991       0.123271  \n",
      "21958     -1.235275e-07     279.155191       0.120752  \n",
      "21959      4.267757e-09     275.489273       0.117617  \n",
      "\n",
      "[21960 rows x 10 columns]\n"
     ]
    }
   ],
   "source": [
    "# Fusion des dataframes de la liste df_terre_dek\n",
    "df_terre_merg_dek = reduce(lambda left, right: pd.merge(left, right, on=['Station', 'Year', 'Month', 'Decade']), df_terre_dek)\n",
    "\n",
    "# Afficher le dataframe fusionné\n",
    "print(df_terre_merg_dek)\n",
    "#df_terre_merg_dek.to_csv('./test_fusion.xlsx')"
   ]
  },
  {
   "cell_type": "markdown",
   "metadata": {},
   "source": [
    "##### Mensuelles"
   ]
  },
  {
   "cell_type": "code",
   "execution_count": 63,
   "metadata": {},
   "outputs": [
    {
     "name": "stdout",
     "output_type": "stream",
     "text": [
      "             Station  Year  Month  v_wind_975  u_wind_700  u_wind_100  \\\n",
      "0     Bobo_Dioulasso  1961      1   -2.648709   -1.809392   17.616270   \n",
      "1     Bobo_Dioulasso  1961      2   -2.103444    0.458890   12.566036   \n",
      "2     Bobo_Dioulasso  1961      3   -0.886015   -1.004652   16.747609   \n",
      "3     Bobo_Dioulasso  1961      4    1.652940   -4.718261    5.372466   \n",
      "4     Bobo_Dioulasso  1961      5    1.654241   -8.676686   -4.629670   \n",
      "...              ...   ...    ...         ...         ...         ...   \n",
      "7315              Po  2021      8    1.879763   -6.685376  -15.133298   \n",
      "7316              Po  2021      9    2.036198  -11.709194   -8.326725   \n",
      "7317              Po  2021     10    1.988795  -10.225080   -2.909251   \n",
      "7318              Po  2021     11    0.455663   -7.267599    7.878928   \n",
      "7319              Po  2021     12   -2.469851   -3.697888   15.703087   \n",
      "\n",
      "      eau_precipitable  t_point_rosee  h_vol_sol_wat  \n",
      "0        -2.787611e-07     274.604133       0.178462  \n",
      "1        -4.130379e-08     270.981565       0.173626  \n",
      "2         2.225167e-07     276.209542       0.170209  \n",
      "3         8.248803e-08     291.349840       0.204703  \n",
      "4        -1.169135e-07     294.730945       0.262517  \n",
      "...                ...            ...            ...  \n",
      "7315     -1.110345e-07     296.557268       0.397414  \n",
      "7316     -2.996145e-07     296.768992       0.323568  \n",
      "7317      2.185397e-07     296.601037       0.217716  \n",
      "7318     -6.295571e-08     289.805219       0.134100  \n",
      "7319     -2.250248e-08     278.809800       0.120452  \n",
      "\n",
      "[7320 rows x 9 columns]\n"
     ]
    }
   ],
   "source": [
    "# Fusion des dataframes de la liste df_terre_dek\n",
    "df_terre_merg_mon = reduce(lambda left, right: pd.merge(left, right, on=['Station', 'Year', 'Month']), df_terre_mon)\n",
    "\n",
    "# Afficher le dataframe fusionné\n",
    "print(df_terre_merg_mon)\n",
    "#df_terre_merg_mon.to_csv('./test_merg_terre_mon.xlsx')"
   ]
  },
  {
   "cell_type": "markdown",
   "metadata": {},
   "source": [
    "##### Fusion des dataframes des anomalies des températures de mers"
   ]
  },
  {
   "cell_type": "markdown",
   "metadata": {},
   "source": [
    "##### Decadaire"
   ]
  },
  {
   "cell_type": "code",
   "execution_count": 64,
   "metadata": {},
   "outputs": [
    {
     "name": "stdout",
     "output_type": "stream",
     "text": [
      "      Year  Month Decade  anom_lef_dek  anom_nino_dek\n",
      "0     1961      1      1      0.366058      -0.024109\n",
      "1     1961      1      2      0.232300       0.064850\n",
      "2     1961      1      3      0.669006       0.241150\n",
      "3     1961      2      1      0.867004       0.408600\n",
      "4     1961      2      2      1.098785       0.390625\n",
      "...    ...    ...    ...           ...            ...\n",
      "2191  2021     11      2      0.847351       0.153992\n",
      "2192  2021     11      3      0.882965       0.132477\n",
      "2193  2021     12      1      0.773315       0.054108\n",
      "2194  2021     12      2      0.721924       0.027649\n",
      "2195  2021     12      3      0.703491       0.093109\n",
      "\n",
      "[2196 rows x 5 columns]\n"
     ]
    }
   ],
   "source": [
    "# Fusion des dataframes de la liste df_terre_dek\n",
    "df_mer_merg_dek = reduce(lambda left, right: pd.merge(left, right, on=['Year', 'Month', 'Decade']), df_mer_dek)\n",
    "# Afficher le dataframe fusionné\n",
    "print(df_mer_merg_dek)\n",
    "#df_mer_merg_dek.to_csv('./test_fus_mer_dek.xlsx')"
   ]
  },
  {
   "cell_type": "markdown",
   "metadata": {},
   "source": [
    "##### Mensuelle"
   ]
  },
  {
   "cell_type": "code",
   "execution_count": 65,
   "metadata": {},
   "outputs": [
    {
     "name": "stdout",
     "output_type": "stream",
     "text": [
      "     Year  Month  anom_lef_mois  anom_nino_mois\n",
      "0    1961      1       0.432617        0.100525\n",
      "1    1961      2       1.084656        0.433777\n",
      "2    1961      3       1.540955        0.633484\n",
      "3    1961      4       1.686737        1.028717\n",
      "4    1961      5       1.242432        0.729370\n",
      "..    ...    ...            ...             ...\n",
      "727  2021      8      -0.499146       -0.114014\n",
      "728  2021      9      -0.291443       -0.145203\n",
      "729  2021     10       0.351349        0.091980\n",
      "730  2021     11       0.799896        0.187561\n",
      "731  2021     12       0.734161        0.061249\n",
      "\n",
      "[732 rows x 4 columns]\n"
     ]
    }
   ],
   "source": [
    "# Fusion des dataframes de la liste df_terre_dek\n",
    "df_mer_merg_mon = reduce(lambda left, right: pd.merge(left, right, on=['Year', 'Month']), df_mer_mon)\n",
    "# Afficher le dataframe fusionné\n",
    "print(df_mer_merg_mon)\n",
    "#df_mer_merg_mon.to_csv('./test_fus_mer_mon.xlsx')"
   ]
  },
  {
   "cell_type": "markdown",
   "metadata": {},
   "source": [
    "##### IX-1 Fusion des dataframes locaux et mer"
   ]
  },
  {
   "cell_type": "markdown",
   "metadata": {},
   "source": [
    "##### Decadaires"
   ]
  },
  {
   "cell_type": "code",
   "execution_count": 66,
   "metadata": {},
   "outputs": [],
   "source": [
    "# Fusionner les DataFrames en utilisant une fusion externe (outer) sans spécifier les colonnes de fusion\n",
    "df_dek = df_terre_merg_dek.merge(df_mer_merg_dek, how='outer')\n",
    "df_dek.to_csv(str(Config.FILES_TRAITED_PATH) + '/' + str(Config.ERA_FUSION_DEK),index=False)"
   ]
  },
  {
   "cell_type": "markdown",
   "metadata": {},
   "source": [
    "##### Mensuelles"
   ]
  },
  {
   "cell_type": "code",
   "execution_count": 67,
   "metadata": {},
   "outputs": [],
   "source": [
    "# Fusionner les DataFrames en utilisant une fusion externe (outer) sans spécifier les colonnes de fusion\n",
    "df_mon = df_terre_merg_mon.merge(df_mer_merg_mon, how='outer')\n",
    "df_mon.to_csv(str(Config.FILES_TRAITED_PATH) + '/' + str(Config.ERA_FUSION_MON),index=False)"
   ]
  }
 ],
 "metadata": {
  "kernelspec": {
   "display_name": "Python 3",
   "language": "python",
   "name": "python3"
  },
  "language_info": {
   "codemirror_mode": {
    "name": "ipython",
    "version": 3
   },
   "file_extension": ".py",
   "mimetype": "text/x-python",
   "name": "python",
   "nbconvert_exporter": "python",
   "pygments_lexer": "ipython3",
   "version": "3.9.6"
  },
  "orig_nbformat": 4
 },
 "nbformat": 4,
 "nbformat_minor": 2
}
