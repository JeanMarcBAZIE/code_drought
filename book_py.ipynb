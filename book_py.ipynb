{
 "cells": [
  {
   "cell_type": "code",
   "execution_count": 1,
   "metadata": {},
   "outputs": [
    {
     "name": "stdout",
     "output_type": "stream",
     "text": [
      "Notebook converted to Python file: training_model.py\n"
     ]
    }
   ],
   "source": [
    "import nbformat\n",
    "\n",
    "# Specify the notebook file path\n",
    "notebook_path = '7_training_model.ipynb' \n",
    "\n",
    "# Parse the notebook file\n",
    "notebook = nbformat.read(notebook_path, as_version=4)\n",
    "\n",
    "# Specify the output Python file path  \n",
    "python_file_path = 'training_model.py'\n",
    "\n",
    "# Open the output file and write the code cells \n",
    "with open(python_file_path, 'w') as f:\n",
    "\n",
    "  for cell in notebook.cells:\n",
    "    if cell.cell_type == 'code':\n",
    "      f.write('\\n')\n",
    "      f.write('#' * 50)\n",
    "      f.write('\\n')\n",
    "      f.write(f'{cell.source}')\n",
    "print(f'Notebook converted to Python file: {python_file_path}')"
   ]
  }
 ],
 "metadata": {
  "kernelspec": {
   "display_name": "Python 3",
   "language": "python",
   "name": "python3"
  },
  "language_info": {
   "codemirror_mode": {
    "name": "ipython",
    "version": 3
   },
   "file_extension": ".py",
   "mimetype": "text/x-python",
   "name": "python",
   "nbconvert_exporter": "python",
   "pygments_lexer": "ipython3",
   "version": "3.9.6"
  }
 },
 "nbformat": 4,
 "nbformat_minor": 2
}
