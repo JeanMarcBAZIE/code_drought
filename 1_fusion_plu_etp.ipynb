{
 "cells": [
  {
   "cell_type": "code",
   "execution_count": 1,
   "metadata": {},
   "outputs": [],
   "source": [
    "import os\n",
    "import pandas as pd\n",
    "import numpy as np\n",
    "from config import Config"
   ]
  },
  {
   "cell_type": "code",
   "execution_count": 2,
   "metadata": {},
   "outputs": [],
   "source": [
    "def fileDataframe(fichier, parametre):\n",
    "    data = pd.read_excel(fichier)\n",
    "    data_trans =data.melt(id_vars=['Station','Annee','Mois'], value_vars= data.columns[3:],var_name='Jour',value_name=parametre)\n",
    "    return data_trans"
   ]
  },
  {
   "cell_type": "code",
   "execution_count": 3,
   "metadata": {},
   "outputs": [],
   "source": [
    "#Creer une time serie en fusionnant l'Annee, le mois et le Jour pour creer un index de date\n",
    "def convertTimeSerie(df):\n",
    "    # Fonction de validation pour vérifier si une date est valide\n",
    "    def dateValid(year, month, day):\n",
    "        try:\n",
    "            pd.Timestamp(year=year, month=month, day=day)\n",
    "            return True\n",
    "        except ValueError:\n",
    "            return False \n",
    "    # Créer une nouvelle colonne \"Date\" en fusionnant les colonnes \"Jour\", \"Mois\" et \"Annee\"\n",
    "    df['Date'] = df.apply(lambda row: str(row['Jour']) + '/' + str(row['Mois']) + '/' + str(row['Annee']), axis=1)\n",
    "    # Convertir la colonne \"Date\" en objet datetime en appliquant la validation\n",
    "    df.loc[:, 'Date'] = pd.to_datetime(df['Date'], format='%d/%m/%Y', errors='coerce')\n",
    "    # Supprimer les lignes avec des dates non valides\n",
    "    df = df.dropna(subset=['Date'])\n",
    "     # Supprimer les colonnes \"Annee\", \"Mois\" et \"Jour\" si nécessaire\n",
    "    df.drop(['Annee', 'Mois', 'Jour'], axis=1, inplace=True)\n",
    "    return df"
   ]
  },
  {
   "cell_type": "code",
   "execution_count": 4,
   "metadata": {},
   "outputs": [
    {
     "data": {
      "text/html": [
       "<div>\n",
       "<style scoped>\n",
       "    .dataframe tbody tr th:only-of-type {\n",
       "        vertical-align: middle;\n",
       "    }\n",
       "\n",
       "    .dataframe tbody tr th {\n",
       "        vertical-align: top;\n",
       "    }\n",
       "\n",
       "    .dataframe thead th {\n",
       "        text-align: right;\n",
       "    }\n",
       "</style>\n",
       "<table border=\"1\" class=\"dataframe\">\n",
       "  <thead>\n",
       "    <tr style=\"text-align: right;\">\n",
       "      <th></th>\n",
       "      <th>Station</th>\n",
       "      <th>Annee</th>\n",
       "      <th>Mois</th>\n",
       "      <th>Jour</th>\n",
       "      <th>Pluie</th>\n",
       "    </tr>\n",
       "  </thead>\n",
       "  <tbody>\n",
       "    <tr>\n",
       "      <th>0</th>\n",
       "      <td>Bobo_Dioulasso</td>\n",
       "      <td>1907</td>\n",
       "      <td>3</td>\n",
       "      <td>01</td>\n",
       "      <td>NaN</td>\n",
       "    </tr>\n",
       "    <tr>\n",
       "      <th>1</th>\n",
       "      <td>Bobo_Dioulasso</td>\n",
       "      <td>1907</td>\n",
       "      <td>4</td>\n",
       "      <td>01</td>\n",
       "      <td>0.0</td>\n",
       "    </tr>\n",
       "    <tr>\n",
       "      <th>2</th>\n",
       "      <td>Bobo_Dioulasso</td>\n",
       "      <td>1907</td>\n",
       "      <td>5</td>\n",
       "      <td>01</td>\n",
       "      <td>2.9</td>\n",
       "    </tr>\n",
       "  </tbody>\n",
       "</table>\n",
       "</div>"
      ],
      "text/plain": [
       "          Station  Annee  Mois Jour  Pluie\n",
       "0  Bobo_Dioulasso   1907     3   01    NaN\n",
       "1  Bobo_Dioulasso   1907     4   01    0.0\n",
       "2  Bobo_Dioulasso   1907     5   01    2.9"
      ]
     },
     "execution_count": 4,
     "metadata": {},
     "output_type": "execute_result"
    }
   ],
   "source": [
    "# Lecture du fichier de données journalières de pluie\n",
    "pluieData=fileDataframe(str(Config.PLUIE_ETP_PATH)+'/'+str(Config.PLUIE_FILE_NAME),'Pluie')\n",
    "pluieData.head(3)"
   ]
  },
  {
   "cell_type": "code",
   "execution_count": 5,
   "metadata": {},
   "outputs": [
    {
     "data": {
      "text/html": [
       "<div>\n",
       "<style scoped>\n",
       "    .dataframe tbody tr th:only-of-type {\n",
       "        vertical-align: middle;\n",
       "    }\n",
       "\n",
       "    .dataframe tbody tr th {\n",
       "        vertical-align: top;\n",
       "    }\n",
       "\n",
       "    .dataframe thead th {\n",
       "        text-align: right;\n",
       "    }\n",
       "</style>\n",
       "<table border=\"1\" class=\"dataframe\">\n",
       "  <thead>\n",
       "    <tr style=\"text-align: right;\">\n",
       "      <th></th>\n",
       "      <th>Station</th>\n",
       "      <th>Annee</th>\n",
       "      <th>Mois</th>\n",
       "      <th>Jour</th>\n",
       "      <th>Etp</th>\n",
       "    </tr>\n",
       "  </thead>\n",
       "  <tbody>\n",
       "    <tr>\n",
       "      <th>0</th>\n",
       "      <td>Bobo_Dioulasso</td>\n",
       "      <td>1961</td>\n",
       "      <td>1</td>\n",
       "      <td>01</td>\n",
       "      <td>6.3</td>\n",
       "    </tr>\n",
       "    <tr>\n",
       "      <th>1</th>\n",
       "      <td>Bobo_Dioulasso</td>\n",
       "      <td>1961</td>\n",
       "      <td>2</td>\n",
       "      <td>01</td>\n",
       "      <td>8.4</td>\n",
       "    </tr>\n",
       "    <tr>\n",
       "      <th>2</th>\n",
       "      <td>Bobo_Dioulasso</td>\n",
       "      <td>1961</td>\n",
       "      <td>3</td>\n",
       "      <td>01</td>\n",
       "      <td>7.7</td>\n",
       "    </tr>\n",
       "  </tbody>\n",
       "</table>\n",
       "</div>"
      ],
      "text/plain": [
       "          Station  Annee  Mois Jour  Etp\n",
       "0  Bobo_Dioulasso   1961     1   01  6.3\n",
       "1  Bobo_Dioulasso   1961     2   01  8.4\n",
       "2  Bobo_Dioulasso   1961     3   01  7.7"
      ]
     },
     "execution_count": 5,
     "metadata": {},
     "output_type": "execute_result"
    }
   ],
   "source": [
    "# Lecture du fichier de données journalières d'evapotranspiration\n",
    "petData=fileDataframe(str(Config.PLUIE_ETP_PATH)+'/'+str(Config.ETP_FILE_NAME),'Etp')\n",
    "petData.head(3)"
   ]
  },
  {
   "cell_type": "code",
   "execution_count": 6,
   "metadata": {},
   "outputs": [
    {
     "name": "stderr",
     "output_type": "stream",
     "text": [
      "/var/folders/pk/rg_m87h56ws5wzxy5dg2rcmw0000gn/T/ipykernel_1830/458809572.py:17: SettingWithCopyWarning: \n",
      "A value is trying to be set on a copy of a slice from a DataFrame\n",
      "\n",
      "See the caveats in the documentation: https://pandas.pydata.org/pandas-docs/stable/user_guide/indexing.html#returning-a-view-versus-a-copy\n",
      "  df.drop(['Annee', 'Mois', 'Jour'], axis=1, inplace=True)\n"
     ]
    },
    {
     "data": {
      "text/html": [
       "<div>\n",
       "<style scoped>\n",
       "    .dataframe tbody tr th:only-of-type {\n",
       "        vertical-align: middle;\n",
       "    }\n",
       "\n",
       "    .dataframe tbody tr th {\n",
       "        vertical-align: top;\n",
       "    }\n",
       "\n",
       "    .dataframe thead th {\n",
       "        text-align: right;\n",
       "    }\n",
       "</style>\n",
       "<table border=\"1\" class=\"dataframe\">\n",
       "  <thead>\n",
       "    <tr style=\"text-align: right;\">\n",
       "      <th></th>\n",
       "      <th>Station</th>\n",
       "      <th>Etp</th>\n",
       "      <th>Date</th>\n",
       "    </tr>\n",
       "  </thead>\n",
       "  <tbody>\n",
       "    <tr>\n",
       "      <th>0</th>\n",
       "      <td>Bobo_Dioulasso</td>\n",
       "      <td>6.3</td>\n",
       "      <td>1961-01-01 00:00:00</td>\n",
       "    </tr>\n",
       "    <tr>\n",
       "      <th>1</th>\n",
       "      <td>Bobo_Dioulasso</td>\n",
       "      <td>8.4</td>\n",
       "      <td>1961-02-01 00:00:00</td>\n",
       "    </tr>\n",
       "    <tr>\n",
       "      <th>2</th>\n",
       "      <td>Bobo_Dioulasso</td>\n",
       "      <td>7.7</td>\n",
       "      <td>1961-03-01 00:00:00</td>\n",
       "    </tr>\n",
       "  </tbody>\n",
       "</table>\n",
       "</div>"
      ],
      "text/plain": [
       "          Station  Etp                 Date\n",
       "0  Bobo_Dioulasso  6.3  1961-01-01 00:00:00\n",
       "1  Bobo_Dioulasso  8.4  1961-02-01 00:00:00\n",
       "2  Bobo_Dioulasso  7.7  1961-03-01 00:00:00"
      ]
     },
     "execution_count": 6,
     "metadata": {},
     "output_type": "execute_result"
    }
   ],
   "source": [
    "petSerie=convertTimeSerie(petData)\n",
    "petSerie.head(3)"
   ]
  },
  {
   "cell_type": "code",
   "execution_count": 7,
   "metadata": {},
   "outputs": [
    {
     "name": "stderr",
     "output_type": "stream",
     "text": [
      "/var/folders/pk/rg_m87h56ws5wzxy5dg2rcmw0000gn/T/ipykernel_1830/458809572.py:17: SettingWithCopyWarning: \n",
      "A value is trying to be set on a copy of a slice from a DataFrame\n",
      "\n",
      "See the caveats in the documentation: https://pandas.pydata.org/pandas-docs/stable/user_guide/indexing.html#returning-a-view-versus-a-copy\n",
      "  df.drop(['Annee', 'Mois', 'Jour'], axis=1, inplace=True)\n"
     ]
    },
    {
     "data": {
      "text/html": [
       "<div>\n",
       "<style scoped>\n",
       "    .dataframe tbody tr th:only-of-type {\n",
       "        vertical-align: middle;\n",
       "    }\n",
       "\n",
       "    .dataframe tbody tr th {\n",
       "        vertical-align: top;\n",
       "    }\n",
       "\n",
       "    .dataframe thead th {\n",
       "        text-align: right;\n",
       "    }\n",
       "</style>\n",
       "<table border=\"1\" class=\"dataframe\">\n",
       "  <thead>\n",
       "    <tr style=\"text-align: right;\">\n",
       "      <th></th>\n",
       "      <th>Station</th>\n",
       "      <th>Pluie</th>\n",
       "      <th>Date</th>\n",
       "    </tr>\n",
       "  </thead>\n",
       "  <tbody>\n",
       "    <tr>\n",
       "      <th>0</th>\n",
       "      <td>Bobo_Dioulasso</td>\n",
       "      <td>NaN</td>\n",
       "      <td>1907-03-01 00:00:00</td>\n",
       "    </tr>\n",
       "    <tr>\n",
       "      <th>1</th>\n",
       "      <td>Bobo_Dioulasso</td>\n",
       "      <td>0.0</td>\n",
       "      <td>1907-04-01 00:00:00</td>\n",
       "    </tr>\n",
       "    <tr>\n",
       "      <th>2</th>\n",
       "      <td>Bobo_Dioulasso</td>\n",
       "      <td>2.9</td>\n",
       "      <td>1907-05-01 00:00:00</td>\n",
       "    </tr>\n",
       "    <tr>\n",
       "      <th>3</th>\n",
       "      <td>Bobo_Dioulasso</td>\n",
       "      <td>0.0</td>\n",
       "      <td>1907-06-01 00:00:00</td>\n",
       "    </tr>\n",
       "    <tr>\n",
       "      <th>4</th>\n",
       "      <td>Bobo_Dioulasso</td>\n",
       "      <td>13.8</td>\n",
       "      <td>1907-07-01 00:00:00</td>\n",
       "    </tr>\n",
       "  </tbody>\n",
       "</table>\n",
       "</div>"
      ],
      "text/plain": [
       "          Station  Pluie                 Date\n",
       "0  Bobo_Dioulasso    NaN  1907-03-01 00:00:00\n",
       "1  Bobo_Dioulasso    0.0  1907-04-01 00:00:00\n",
       "2  Bobo_Dioulasso    2.9  1907-05-01 00:00:00\n",
       "3  Bobo_Dioulasso    0.0  1907-06-01 00:00:00\n",
       "4  Bobo_Dioulasso   13.8  1907-07-01 00:00:00"
      ]
     },
     "execution_count": 7,
     "metadata": {},
     "output_type": "execute_result"
    }
   ],
   "source": [
    "pluieSerie=convertTimeSerie(pluieData)\n",
    "pluieSerie.head()"
   ]
  },
  {
   "cell_type": "code",
   "execution_count": 8,
   "metadata": {},
   "outputs": [
    {
     "data": {
      "text/html": [
       "<div>\n",
       "<style scoped>\n",
       "    .dataframe tbody tr th:only-of-type {\n",
       "        vertical-align: middle;\n",
       "    }\n",
       "\n",
       "    .dataframe tbody tr th {\n",
       "        vertical-align: top;\n",
       "    }\n",
       "\n",
       "    .dataframe thead th {\n",
       "        text-align: right;\n",
       "    }\n",
       "</style>\n",
       "<table border=\"1\" class=\"dataframe\">\n",
       "  <thead>\n",
       "    <tr style=\"text-align: right;\">\n",
       "      <th></th>\n",
       "      <th>Station</th>\n",
       "      <th>Pluie</th>\n",
       "      <th>Date</th>\n",
       "      <th>Etp</th>\n",
       "    </tr>\n",
       "  </thead>\n",
       "  <tbody>\n",
       "    <tr>\n",
       "      <th>0</th>\n",
       "      <td>Bobo_Dioulasso</td>\n",
       "      <td>NaN</td>\n",
       "      <td>1907-03-01 00:00:00</td>\n",
       "      <td>NaN</td>\n",
       "    </tr>\n",
       "    <tr>\n",
       "      <th>1</th>\n",
       "      <td>Bobo_Dioulasso</td>\n",
       "      <td>0.0</td>\n",
       "      <td>1907-04-01 00:00:00</td>\n",
       "      <td>NaN</td>\n",
       "    </tr>\n",
       "    <tr>\n",
       "      <th>2</th>\n",
       "      <td>Bobo_Dioulasso</td>\n",
       "      <td>2.9</td>\n",
       "      <td>1907-05-01 00:00:00</td>\n",
       "      <td>NaN</td>\n",
       "    </tr>\n",
       "  </tbody>\n",
       "</table>\n",
       "</div>"
      ],
      "text/plain": [
       "          Station  Pluie                 Date  Etp\n",
       "0  Bobo_Dioulasso    NaN  1907-03-01 00:00:00  NaN\n",
       "1  Bobo_Dioulasso    0.0  1907-04-01 00:00:00  NaN\n",
       "2  Bobo_Dioulasso    2.9  1907-05-01 00:00:00  NaN"
      ]
     },
     "execution_count": 8,
     "metadata": {},
     "output_type": "execute_result"
    }
   ],
   "source": [
    "# Fusionner les dataframes en utilisant les colonnes \"Date\" et \"Station\" comme clés de fusion\n",
    "merged_data = pd.merge(pluieSerie, petSerie, on=['Date', 'Station'], how='outer')\n",
    "merged_data.to_csv(str(Config.FILES_TRAITED_PATH) + '/' + str(Config.PLUIE_ETP_FILE_NAME))\n",
    "# Afficher le dataframe fusionné\n",
    "merged_data.head(3)"
   ]
  },
  {
   "cell_type": "code",
   "execution_count": 9,
   "metadata": {},
   "outputs": [],
   "source": [
    "df_boromo=merged_data[merged_data['Station']=='Boromo']\n",
    "df_boromo.to_csv(str(Config.FILES_TRAITED_PATH) + '/' + str(Config.STATION_TEST))"
   ]
  }
 ],
 "metadata": {
  "interpreter": {
   "hash": "e7370f93d1d0cde622a1f8e1c04877d8463912d04d973331ad4851f04de6915a"
  },
  "kernelspec": {
   "display_name": "Python 3.10.4 64-bit",
   "language": "python",
   "name": "python3"
  },
  "language_info": {
   "codemirror_mode": {
    "name": "ipython",
    "version": 3
   },
   "file_extension": ".py",
   "mimetype": "text/x-python",
   "name": "python",
   "nbconvert_exporter": "python",
   "pygments_lexer": "ipython3",
   "version": "3.9.6"
  },
  "orig_nbformat": 4,
  "vscode": {
   "interpreter": {
    "hash": "26de051ba29f2982a8de78e945f0abaf191376122a1563185a90213a26c5da77"
   }
  }
 },
 "nbformat": 4,
 "nbformat_minor": 2
}
